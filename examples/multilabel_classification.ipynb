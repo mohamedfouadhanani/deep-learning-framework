{
 "cells": [
  {
   "cell_type": "code",
   "execution_count": 1,
   "metadata": {},
   "outputs": [],
   "source": [
    "import os\n",
    "import sys\n",
    "sys.path.append(os.path.dirname(os.getcwd()))"
   ]
  },
  {
   "cell_type": "code",
   "execution_count": 2,
   "metadata": {},
   "outputs": [],
   "source": [
    "import numpy as np\n",
    "from matplotlib import pyplot as plt\n",
    "\n",
    "from dl import Model\n",
    "from dl import Dense\n",
    "from dl.activations import TanH, ReLU, Sigmoid\n",
    "from dl.losses import BinaryCrossEntropy\n",
    "from dl.regularization import Dropout\n",
    "from dl.optimizers import RMSProp\n",
    "from dl.normalization import BatchNormalization\n",
    "from dl.normalization import LayerNormalization"
   ]
  },
  {
   "cell_type": "code",
   "execution_count": 3,
   "metadata": {},
   "outputs": [],
   "source": [
    "m, n = 2000, 4\n",
    "inputs = np.random.uniform(-1, 1, size=(m, n))\n",
    "outputs = (inputs > 0).astype(np.int64)"
   ]
  },
  {
   "cell_type": "code",
   "execution_count": 4,
   "metadata": {},
   "outputs": [
    {
     "name": "stdout",
     "output_type": "stream",
     "text": [
      "(1600, 4) (1600, 4)\n",
      "(80, 4) (80, 4)\n",
      "(320, 4) (320, 4)\n"
     ]
    }
   ],
   "source": [
    "# train, val, test split\n",
    "def train_test_split(inputs, outputs, pourcentage):\n",
    "    m, _ = inputs.shape\n",
    "    permutation = np.random.permutation(m)\n",
    "    m_train = np.ceil(m * pourcentage).astype(int)\n",
    "\n",
    "    inputs_train = inputs[permutation[:m_train]]\n",
    "    inputs_test = inputs[permutation[m_train:]]\n",
    "\n",
    "    outputs_train = outputs[permutation[:m_train]]\n",
    "    outputs_test = outputs[permutation[m_train:]]\n",
    "\n",
    "    return inputs_train, outputs_train, inputs_test, outputs_test\n",
    "\n",
    "inputs_train, outputs_train, inputs_test, outputs_test = train_test_split(inputs, outputs, pourcentage=0.8)\n",
    "inputs_val, outputs_val, inputs_test, outputs_test = train_test_split(inputs_test, outputs_test, pourcentage=0.8)\n",
    "\n",
    "print(inputs_train.shape, outputs_train.shape)\n",
    "print(inputs_test.shape, outputs_test.shape)\n",
    "print(inputs_val.shape, outputs_val.shape)"
   ]
  },
  {
   "cell_type": "code",
   "execution_count": 14,
   "metadata": {},
   "outputs": [],
   "source": [
    "model = Model([\n",
    "    Dense(n, 8),\n",
    "    BatchNormalization(),\n",
    "    ReLU(),\n",
    "    Dense(8, 16),\n",
    "    BatchNormalization(),\n",
    "    ReLU(),\n",
    "    Dense(16, 32),\n",
    "    LayerNormalization(),\n",
    "    TanH(),\n",
    "    Dropout(keep_prob=0.8),\n",
    "    Dense(32, n),\n",
    "    Sigmoid()\n",
    "])"
   ]
  },
  {
   "cell_type": "code",
   "execution_count": 15,
   "metadata": {},
   "outputs": [],
   "source": [
    "loss = BinaryCrossEntropy()"
   ]
  },
  {
   "cell_type": "code",
   "execution_count": 16,
   "metadata": {},
   "outputs": [],
   "source": [
    "n_epochs = 100\n",
    "learning_rate = 0.1\n",
    "batch_size = 128\n",
    "beta = 0.99"
   ]
  },
  {
   "cell_type": "code",
   "execution_count": 17,
   "metadata": {},
   "outputs": [],
   "source": [
    "optimizer = RMSProp(learning_rate, beta)"
   ]
  },
  {
   "cell_type": "code",
   "execution_count": 18,
   "metadata": {},
   "outputs": [],
   "source": [
    "model.compile(loss, optimizer)"
   ]
  },
  {
   "cell_type": "code",
   "execution_count": 19,
   "metadata": {},
   "outputs": [
    {
     "name": "stdout",
     "output_type": "stream",
     "text": [
      "[1/100]: Training Loss: 7.759864363455827 , Validation Loss: 7.928313495457718\n",
      "[2/100]: Training Loss: 7.28325690120509 , Validation Loss: 7.3852874459247175\n",
      "[3/100]: Training Loss: 3.4047193678815564 , Validation Loss: 3.4602553136011096\n",
      "[4/100]: Training Loss: 3.026472424049862 , Validation Loss: 3.0522028287670366\n",
      "[5/100]: Training Loss: 2.9446556166681 , Validation Loss: 2.970957555167854\n",
      "[6/100]: Training Loss: 2.9285384310895255 , Validation Loss: 2.924114834790856\n",
      "[7/100]: Training Loss: 3.1041883364353886 , Validation Loss: 3.138786006616521\n",
      "[8/100]: Training Loss: 2.894368410201019 , Validation Loss: 2.9117563556610073\n",
      "[9/100]: Training Loss: 2.9424828919700228 , Validation Loss: 2.9620513647871847\n",
      "[10/100]: Training Loss: 2.9284221884349533 , Validation Loss: 2.9444430041485687\n",
      "[11/100]: Training Loss: 2.9197126084457867 , Validation Loss: 2.9358321616641354\n",
      "[12/100]: Training Loss: 2.918323916536589 , Validation Loss: 2.9317182038433\n",
      "[13/100]: Training Loss: 2.8871397215134356 , Validation Loss: 2.899139645256182\n",
      "[14/100]: Training Loss: 2.9052287018084924 , Validation Loss: 2.920310745654807\n",
      "[15/100]: Training Loss: 2.90280747127102 , Validation Loss: 2.917133749235831\n",
      "[16/100]: Training Loss: 2.8915424540870514 , Validation Loss: 2.9001856086715927\n",
      "[17/100]: Training Loss: 2.919595596442785 , Validation Loss: 2.9325231515937666\n",
      "[18/100]: Training Loss: 2.9650351154375314 , Validation Loss: 2.9786662388840845\n",
      "[19/100]: Training Loss: 2.9958715644206784 , Validation Loss: 3.0055240366911824\n",
      "[20/100]: Training Loss: 2.938565505581577 , Validation Loss: 2.947718513202252\n",
      "[21/100]: Training Loss: 2.8946360348568656 , Validation Loss: 2.9058638061042443\n",
      "[22/100]: Training Loss: 2.894070391863579 , Validation Loss: 2.902378215171141\n",
      "[23/100]: Training Loss: 2.8370994259772795 , Validation Loss: 2.848708463394277\n",
      "[24/100]: Training Loss: 2.8241822024059333 , Validation Loss: 2.835132654008393\n",
      "[25/100]: Training Loss: 2.803523184517387 , Validation Loss: 2.8135308364659743\n",
      "[26/100]: Training Loss: 2.8330261704011344 , Validation Loss: 2.843782316695366\n",
      "[27/100]: Training Loss: 2.8456865857164075 , Validation Loss: 2.853180082864894\n",
      "[28/100]: Training Loss: 2.8603802269875245 , Validation Loss: 2.868963645652235\n",
      "[29/100]: Training Loss: 2.8234675665959115 , Validation Loss: 2.8306468290095936\n",
      "[30/100]: Training Loss: 2.8350342634544643 , Validation Loss: 2.8429971267972314\n",
      "[31/100]: Training Loss: 2.7981896161453785 , Validation Loss: 2.8040288924145083\n",
      "[32/100]: Training Loss: 2.826762188744982 , Validation Loss: 2.832852828325269\n",
      "[33/100]: Training Loss: 2.828249638595795 , Validation Loss: 2.8354298241921456\n",
      "[34/100]: Training Loss: 2.810847829876518 , Validation Loss: 2.8197847704656893\n",
      "[35/100]: Training Loss: 2.815959853705101 , Validation Loss: 2.8255301369735086\n",
      "[36/100]: Training Loss: 2.8447417244041224 , Validation Loss: 2.855225089033506\n",
      "[37/100]: Training Loss: 2.84030197534953 , Validation Loss: 2.8533577088187068\n",
      "[38/100]: Training Loss: 2.913707950275401 , Validation Loss: 2.930076683896431\n",
      "[39/100]: Training Loss: 3.6500417984045948 , Validation Loss: 3.661989321174785\n",
      "[40/100]: Training Loss: 3.0211789625311742 , Validation Loss: 3.0395611153115585\n",
      "[41/100]: Training Loss: 2.970121412739885 , Validation Loss: 2.988780061059218\n",
      "[42/100]: Training Loss: 2.91556285587415 , Validation Loss: 2.9281198792986087\n",
      "[43/100]: Training Loss: 2.928794825927231 , Validation Loss: 2.9397000796481083\n",
      "[44/100]: Training Loss: 2.8467100844676536 , Validation Loss: 2.859395849479744\n",
      "[45/100]: Training Loss: 2.836909520184405 , Validation Loss: 2.8487039403519643\n",
      "[46/100]: Training Loss: 2.809851062674188 , Validation Loss: 2.81906170329473\n",
      "[47/100]: Training Loss: 2.864335749033298 , Validation Loss: 2.874617287346492\n",
      "[48/100]: Training Loss: 2.854080963621872 , Validation Loss: 2.864735466972043\n",
      "[49/100]: Training Loss: 2.8114937196942766 , Validation Loss: 2.8201129341175317\n",
      "[50/100]: Training Loss: 2.818845764646559 , Validation Loss: 2.82719207187252\n",
      "[51/100]: Training Loss: 2.8298467131589486 , Validation Loss: 2.8390840349992046\n",
      "[52/100]: Training Loss: 2.8473190267398754 , Validation Loss: 2.8591254569189424\n",
      "[53/100]: Training Loss: 2.8459481506504347 , Validation Loss: 2.854341351518653\n",
      "[54/100]: Training Loss: 2.873192744648803 , Validation Loss: 2.883495243153519\n",
      "[55/100]: Training Loss: 2.8425799884473806 , Validation Loss: 2.851283066659147\n",
      "[56/100]: Training Loss: 2.8488241287836775 , Validation Loss: 2.859807654533981\n",
      "[57/100]: Training Loss: 2.8374535181656664 , Validation Loss: 2.8462028373779544\n",
      "[58/100]: Training Loss: 2.8434879359994385 , Validation Loss: 2.8533399614013417\n",
      "[59/100]: Training Loss: 2.8561775591061394 , Validation Loss: 2.8658371918865386\n",
      "[60/100]: Training Loss: 2.8561570415538564 , Validation Loss: 2.865916949799035\n",
      "[61/100]: Training Loss: 2.8602242660372847 , Validation Loss: 2.8727071125521375\n",
      "[62/100]: Training Loss: 2.8512297226844634 , Validation Loss: 2.859941650156487\n",
      "[63/100]: Training Loss: 2.8801559630737508 , Validation Loss: 2.886209818873897\n",
      "[64/100]: Training Loss: 2.8591654776513065 , Validation Loss: 2.8726680860599108\n",
      "[65/100]: Training Loss: 2.916690857662644 , Validation Loss: 2.933697137805888\n",
      "[66/100]: Training Loss: 17.702012517235982 , Validation Loss: 17.891487154022364\n",
      "[67/100]: Training Loss: 2.859731837415757 , Validation Loss: 2.872752032527104\n",
      "[68/100]: Training Loss: 2.8038287530290797 , Validation Loss: 2.812853218350636\n",
      "[69/100]: Training Loss: 2.7935687910184073 , Validation Loss: 2.8027865612271143\n",
      "[70/100]: Training Loss: 2.7914754935748958 , Validation Loss: 2.7968497891835087\n",
      "[71/100]: Training Loss: 2.79545348460303 , Validation Loss: 2.803699634865649\n",
      "[72/100]: Training Loss: 2.7950257516672865 , Validation Loss: 2.801589202996354\n",
      "[73/100]: Training Loss: 2.8045744699837405 , Validation Loss: 2.811673517047274\n",
      "[74/100]: Training Loss: 2.808842292636575 , Validation Loss: 2.816983749243356\n",
      "[75/100]: Training Loss: 2.8240181806075664 , Validation Loss: 2.8326445646259666\n",
      "[76/100]: Training Loss: 2.831368700133963 , Validation Loss: 2.8413393055328053\n",
      "[77/100]: Training Loss: 2.8337985880499246 , Validation Loss: 2.84447175347456\n",
      "[78/100]: Training Loss: 2.8313989710769487 , Validation Loss: 2.839727626305435\n",
      "[79/100]: Training Loss: 2.813959420504708 , Validation Loss: 2.824396568869232\n",
      "[80/100]: Training Loss: 2.813043596510835 , Validation Loss: 2.823134138826454\n",
      "[81/100]: Training Loss: 2.811459467022299 , Validation Loss: 2.818980896388493\n",
      "[82/100]: Training Loss: 2.806818842165516 , Validation Loss: 2.814717218710776\n",
      "[83/100]: Training Loss: 2.809755864610009 , Validation Loss: 2.8191729165599204\n",
      "[84/100]: Training Loss: 2.8096070934385136 , Validation Loss: 2.818074063522963\n",
      "[85/100]: Training Loss: 2.7988364699419734 , Validation Loss: 2.803613208911073\n",
      "[86/100]: Training Loss: 2.79066982539994 , Validation Loss: 2.797973076605338\n",
      "[87/100]: Training Loss: 2.8094987778835114 , Validation Loss: 2.816037401353486\n",
      "[88/100]: Training Loss: 2.799678340803719 , Validation Loss: 2.807993215834589\n",
      "[89/100]: Training Loss: 2.783817327830281 , Validation Loss: 2.7904386589656496\n",
      "[90/100]: Training Loss: 2.8143562843835266 , Validation Loss: 2.822614769740704\n",
      "[91/100]: Training Loss: 2.794715420443796 , Validation Loss: 2.8019535980970396\n",
      "[92/100]: Training Loss: 2.778517451815394 , Validation Loss: 2.782721457421239\n",
      "[93/100]: Training Loss: 2.7911192807579126 , Validation Loss: 2.7932626858804808\n",
      "[94/100]: Training Loss: 6.169907676437187 , Validation Loss: 6.189223601539864\n",
      "[95/100]: Training Loss: 2.950335798871805 , Validation Loss: 2.9677166647448256\n",
      "[96/100]: Training Loss: 2.8551301864512664 , Validation Loss: 2.866360970899138\n",
      "[97/100]: Training Loss: 2.8073254793009745 , Validation Loss: 2.816721028593753\n",
      "[98/100]: Training Loss: 2.7910801563924146 , Validation Loss: 2.7992713178833917\n",
      "[99/100]: Training Loss: 2.7891982213756137 , Validation Loss: 2.797130867331892\n",
      "[100/100]: Training Loss: 2.781293378912809 , Validation Loss: 2.7890700431439592\n"
     ]
    }
   ],
   "source": [
    "history = model.optimize(inputs_train, outputs_train, n_epochs, batch_size, verbose=True, inputs_val=inputs_val, outputs_val=outputs_val)"
   ]
  },
  {
   "cell_type": "code",
   "execution_count": 20,
   "metadata": {},
   "outputs": [
    {
     "data": {
      "image/png": "[encoded data removed]",
      "text/plain": [
       "<Figure size 640x480 with 1 Axes>"
      ]
     },
     "metadata": {},
     "output_type": "display_data"
    }
   ],
   "source": [
    "X = list(range(len(history[\"train_losses\"])))\n",
    "plt.plot(X, history[\"train_losses\"], \"b\", label=\"Training Loss\")\n",
    "plt.plot(X, history[\"val_losses\"], \"r\", label=\"Validation Loss\")\n",
    "plt.xlabel(\"Epoch\")\n",
    "plt.ylabel(\"Loss\")\n",
    "plt.legend()\n",
    "plt.title(\"Training & Validation Loss\")\n",
    "plt.show()"
   ]
  }
 ],
 "metadata": {
  "kernelspec": {
   "display_name": "deep-learning-framework",
   "language": "python",
   "name": "python3"
  },
  "language_info": {
   "codemirror_mode": {
    "name": "ipython",
    "version": 3
   },
   "file_extension": ".py",
   "mimetype": "text/x-python",
   "name": "python",
   "nbconvert_exporter": "python",
   "pygments_lexer": "ipython3",
   "version": "3.10.9"
  },
  "orig_nbformat": 4,
  "vscode": {
   "interpreter": {
    "hash": "4ff79fb053fb88e18eab83b8116863beb7409b92540c23c781114755009620a7"
   }
  }
 },
 "nbformat": 4,
 "nbformat_minor": 2
}
