{
 "cells": [
  {
   "cell_type": "code",
   "execution_count": 1,
   "metadata": {},
   "outputs": [],
   "source": [
    "import os\n",
    "import sys\n",
    "sys.path.append(os.path.dirname(os.getcwd()))"
   ]
  },
  {
   "cell_type": "code",
   "execution_count": 2,
   "metadata": {},
   "outputs": [],
   "source": [
    "import numpy as np\n",
    "from matplotlib import pyplot as plt\n",
    "\n",
    "from dl import Model\n",
    "from dl import Dense\n",
    "from dl.activations import TanH, ReLU, Softmax\n",
    "from dl.losses import CategoricalCrossEntropy\n",
    "from dl.regularization import Dropout\n",
    "from dl.optimizers import AdaptiveMomentEstimation\n",
    "from dl import BatchNormalization"
   ]
  },
  {
   "cell_type": "code",
   "execution_count": 3,
   "metadata": {},
   "outputs": [],
   "source": [
    "m, n = 2000, 4\n",
    "inputs = np.random.uniform(-1, 1, size=(m, n))\n",
    "y = (inputs > 0).sum(axis=1)\n",
    "\n",
    "outputs = np.zeros((m, n + 1))\n",
    "outputs[range(m), y] = 1"
   ]
  },
  {
   "cell_type": "code",
   "execution_count": 4,
   "metadata": {},
   "outputs": [
    {
     "name": "stdout",
     "output_type": "stream",
     "text": [
      "(1600, 4) (1600, 5)\n",
      "(80, 4) (80, 5)\n",
      "(320, 4) (320, 5)\n"
     ]
    }
   ],
   "source": [
    "# train, val, test split\n",
    "def train_test_split(inputs, outputs, pourcentage):\n",
    "    m, _ = inputs.shape\n",
    "    permutation = np.random.permutation(m)\n",
    "    m_train = np.ceil(m * pourcentage).astype(int)\n",
    "\n",
    "    inputs_train = inputs[permutation[:m_train]]\n",
    "    inputs_test = inputs[permutation[m_train:]]\n",
    "\n",
    "    outputs_train = outputs[permutation[:m_train]]\n",
    "    outputs_test = outputs[permutation[m_train:]]\n",
    "\n",
    "    return inputs_train, outputs_train, inputs_test, outputs_test\n",
    "\n",
    "inputs_train, outputs_train, inputs_test, outputs_test = train_test_split(inputs, outputs, pourcentage=0.8)\n",
    "inputs_val, outputs_val, inputs_test, outputs_test = train_test_split(inputs_test, outputs_test, pourcentage=0.8)\n",
    "\n",
    "print(inputs_train.shape, outputs_train.shape)\n",
    "print(inputs_test.shape, outputs_test.shape)\n",
    "print(inputs_val.shape, outputs_val.shape)"
   ]
  },
  {
   "cell_type": "code",
   "execution_count": 5,
   "metadata": {},
   "outputs": [],
   "source": [
    "model = Model([\n",
    "    Dense(n, 8),\n",
    "    ReLU(),\n",
    "    BatchNormalization(),\n",
    "    Dense(8, 16),\n",
    "    ReLU(),\n",
    "    BatchNormalization(),\n",
    "    Dropout(keep_prob=0.3),\n",
    "    Dense(16, 32),\n",
    "    TanH(),\n",
    "    BatchNormalization(),\n",
    "    Dropout(keep_prob=0.4),\n",
    "    Dense(32, n + 1), \n",
    "    Softmax()\n",
    "])"
   ]
  },
  {
   "cell_type": "code",
   "execution_count": 6,
   "metadata": {},
   "outputs": [],
   "source": [
    "loss = CategoricalCrossEntropy()"
   ]
  },
  {
   "cell_type": "code",
   "execution_count": 7,
   "metadata": {},
   "outputs": [],
   "source": [
    "n_epochs = 100\n",
    "learning_rate = 0.1\n",
    "batch_size = 128\n",
    "beta1 = 0.9\n",
    "beta2 = 0.99"
   ]
  },
  {
   "cell_type": "code",
   "execution_count": 8,
   "metadata": {},
   "outputs": [],
   "source": [
    "optimizer = AdaptiveMomentEstimation(learning_rate, beta1, beta2)"
   ]
  },
  {
   "cell_type": "code",
   "execution_count": 9,
   "metadata": {},
   "outputs": [],
   "source": [
    "model.compile(loss, optimizer)"
   ]
  },
  {
   "cell_type": "code",
   "execution_count": 12,
   "metadata": {},
   "outputs": [
    {
     "name": "stdout",
     "output_type": "stream",
     "text": [
      "[1/100]: Training Loss: 0.8615567770050316 , Validation Loss: 0.8453235827994277\n",
      "[2/100]: Training Loss: 0.8775740414639234 , Validation Loss: 0.8512833889758611\n",
      "[3/100]: Training Loss: 0.8379782865367411 , Validation Loss: 0.8215870077551207\n",
      "[4/100]: Training Loss: 0.8424651133071083 , Validation Loss: 0.848276792482632\n",
      "[5/100]: Training Loss: 0.8890482520938192 , Validation Loss: 0.9123467845716732\n",
      "[6/100]: Training Loss: 0.8375853348358189 , Validation Loss: 0.8275939708388131\n",
      "[7/100]: Training Loss: 0.8691603577893134 , Validation Loss: 0.8685990736536604\n",
      "[8/100]: Training Loss: 0.8541540421095637 , Validation Loss: 0.8411764902188953\n",
      "[9/100]: Training Loss: 0.8943258124776543 , Validation Loss: 0.8852880151971079\n",
      "[10/100]: Training Loss: 0.8985442049110851 , Validation Loss: 0.9109306453988399\n",
      "[11/100]: Training Loss: 0.8342419105249825 , Validation Loss: 0.8385288002683524\n",
      "[12/100]: Training Loss: 0.8364300696717738 , Validation Loss: 0.8478093615448401\n",
      "[13/100]: Training Loss: 0.8572374390298424 , Validation Loss: 0.8627974217017151\n",
      "[14/100]: Training Loss: 0.8711219595036621 , Validation Loss: 0.849299413063612\n",
      "[15/100]: Training Loss: 0.8671968357701396 , Validation Loss: 0.8478006855299125\n",
      "[16/100]: Training Loss: 0.8550261071724026 , Validation Loss: 0.8520103969079871\n",
      "[17/100]: Training Loss: 0.8478474873568247 , Validation Loss: 0.8529499550479409\n",
      "[18/100]: Training Loss: 0.9085566672047634 , Validation Loss: 0.929344137676168\n",
      "[19/100]: Training Loss: 0.910067735925321 , Validation Loss: 0.9344667966615111\n",
      "[20/100]: Training Loss: 0.9945275599194897 , Validation Loss: 1.014159455122353\n",
      "[21/100]: Training Loss: 0.9276405723021193 , Validation Loss: 0.9498909306997272\n",
      "[22/100]: Training Loss: 0.8366541007425188 , Validation Loss: 0.8230124387865955\n",
      "[23/100]: Training Loss: 0.8628995268652175 , Validation Loss: 0.8767935111728237\n",
      "[24/100]: Training Loss: 0.8597241922248408 , Validation Loss: 0.8471832662204448\n",
      "[25/100]: Training Loss: 0.8636765716127295 , Validation Loss: 0.8751108451478977\n",
      "[26/100]: Training Loss: 0.8489603856237312 , Validation Loss: 0.8372724777177133\n",
      "[27/100]: Training Loss: 0.8805005928144723 , Validation Loss: 0.8783918372862276\n",
      "[28/100]: Training Loss: 0.9554348632296933 , Validation Loss: 0.9566857893194026\n",
      "[29/100]: Training Loss: 0.9180112373245336 , Validation Loss: 0.9345162619512368\n",
      "[30/100]: Training Loss: 0.8464721184188733 , Validation Loss: 0.8719435824317167\n",
      "[31/100]: Training Loss: 0.8718707803792679 , Validation Loss: 0.885615525982901\n",
      "[32/100]: Training Loss: 0.9023834156773768 , Validation Loss: 0.9321804441706195\n",
      "[33/100]: Training Loss: 0.8547630562431355 , Validation Loss: 0.8532306481095162\n",
      "[34/100]: Training Loss: 0.8772296113223679 , Validation Loss: 0.8832668721939978\n",
      "[35/100]: Training Loss: 0.8886056107856937 , Validation Loss: 0.8905403012778038\n",
      "[36/100]: Training Loss: 0.9104690604416515 , Validation Loss: 0.9157427114605301\n",
      "[37/100]: Training Loss: 0.8560128033293136 , Validation Loss: 0.8440718745518965\n",
      "[38/100]: Training Loss: 0.875677729932336 , Validation Loss: 0.8778288435227829\n",
      "[39/100]: Training Loss: 0.8863011093974995 , Validation Loss: 0.8773293511681552\n",
      "[40/100]: Training Loss: 0.8635261227442405 , Validation Loss: 0.857013816984345\n",
      "[41/100]: Training Loss: 0.873137172758017 , Validation Loss: 0.859220685809699\n",
      "[42/100]: Training Loss: 0.8579118216979067 , Validation Loss: 0.8445779407763961\n",
      "[43/100]: Training Loss: 0.8714337330703945 , Validation Loss: 0.8615024766385357\n",
      "[44/100]: Training Loss: 0.8635125862083245 , Validation Loss: 0.8406531884691884\n",
      "[45/100]: Training Loss: 0.8849707960790221 , Validation Loss: 0.8746390264203386\n",
      "[46/100]: Training Loss: 0.9192925056702056 , Validation Loss: 0.9142995818336119\n",
      "[47/100]: Training Loss: 0.928800978534239 , Validation Loss: 0.9202363671770266\n",
      "[48/100]: Training Loss: 0.9332319147799178 , Validation Loss: 0.930367880556387\n",
      "[49/100]: Training Loss: 0.8776760637538907 , Validation Loss: 0.8746534598398373\n",
      "[50/100]: Training Loss: 0.9291066696933818 , Validation Loss: 0.9212044154226717\n",
      "[51/100]: Training Loss: 0.9359403630806369 , Validation Loss: 0.9397232880105921\n",
      "[52/100]: Training Loss: 0.9129994681201447 , Validation Loss: 0.9056046166020133\n",
      "[53/100]: Training Loss: 0.8890478531413686 , Validation Loss: 0.8899853740953627\n",
      "[54/100]: Training Loss: 0.8886831776620135 , Validation Loss: 0.8714568225118093\n",
      "[55/100]: Training Loss: 0.8430852712409151 , Validation Loss: 0.8317886467882698\n",
      "[56/100]: Training Loss: 0.8840100917547886 , Validation Loss: 0.8593347502592256\n",
      "[57/100]: Training Loss: 0.8678237116644815 , Validation Loss: 0.8492080919029774\n",
      "[58/100]: Training Loss: 0.8750566124837055 , Validation Loss: 0.8717005721831554\n",
      "[59/100]: Training Loss: 0.8870148140652231 , Validation Loss: 0.8722693082388066\n",
      "[60/100]: Training Loss: 0.8999425682077914 , Validation Loss: 0.8668165882691852\n",
      "[61/100]: Training Loss: 0.904903361977037 , Validation Loss: 0.8871848271396928\n",
      "[62/100]: Training Loss: 0.8945288594171248 , Validation Loss: 0.8765117337966872\n",
      "[63/100]: Training Loss: 0.8798873271375826 , Validation Loss: 0.8587749492960682\n",
      "[64/100]: Training Loss: 0.8852783034277765 , Validation Loss: 0.8809951824721051\n",
      "[65/100]: Training Loss: 0.8715614948934959 , Validation Loss: 0.8797725662343808\n",
      "[66/100]: Training Loss: 0.8549852464942354 , Validation Loss: 0.8550861424004221\n",
      "[67/100]: Training Loss: 0.8770077523653534 , Validation Loss: 0.8749313254147125\n",
      "[68/100]: Training Loss: 0.8959783612489071 , Validation Loss: 0.9096414845350905\n",
      "[69/100]: Training Loss: 0.906812995576727 , Validation Loss: 0.9280300046064397\n",
      "[70/100]: Training Loss: 0.9172560247453926 , Validation Loss: 0.9207045628505852\n",
      "[71/100]: Training Loss: 0.8607971008977929 , Validation Loss: 0.8347436707526901\n",
      "[72/100]: Training Loss: 0.8920755173632267 , Validation Loss: 0.858711366023836\n",
      "[73/100]: Training Loss: 0.9102062621833332 , Validation Loss: 0.8861070477801434\n",
      "[74/100]: Training Loss: 0.8936457744851615 , Validation Loss: 0.881378564162868\n",
      "[75/100]: Training Loss: 0.8515166155621771 , Validation Loss: 0.8411343702621281\n",
      "[76/100]: Training Loss: 0.8697356266490089 , Validation Loss: 0.8551380000853216\n",
      "[77/100]: Training Loss: 0.8795305200431894 , Validation Loss: 0.8815579022618873\n",
      "[78/100]: Training Loss: 0.8621561683317702 , Validation Loss: 0.8570111387115539\n",
      "[79/100]: Training Loss: 0.9271365488800473 , Validation Loss: 0.9133221391298207\n",
      "[80/100]: Training Loss: 0.9060337764148599 , Validation Loss: 0.8951509896493407\n",
      "[81/100]: Training Loss: 0.891507273264839 , Validation Loss: 0.8736530236190869\n",
      "[82/100]: Training Loss: 0.8976709820338483 , Validation Loss: 0.8637574262889789\n",
      "[83/100]: Training Loss: 0.8973991425634397 , Validation Loss: 0.8673106209775774\n",
      "[84/100]: Training Loss: 0.8684052791813085 , Validation Loss: 0.8415692515425773\n",
      "[85/100]: Training Loss: 0.9149594109341623 , Validation Loss: 0.8929726992139196\n",
      "[86/100]: Training Loss: 0.8838605620259602 , Validation Loss: 0.84935600810484\n",
      "[87/100]: Training Loss: 0.8856297258891314 , Validation Loss: 0.858299731477366\n",
      "[88/100]: Training Loss: 0.9002910041895111 , Validation Loss: 0.8811666231109022\n",
      "[89/100]: Training Loss: 0.8950129218476581 , Validation Loss: 0.8638264563112319\n",
      "[90/100]: Training Loss: 0.8916704759245345 , Validation Loss: 0.8769058522217428\n",
      "[91/100]: Training Loss: 0.8941400135428301 , Validation Loss: 0.8886902524162716\n",
      "[92/100]: Training Loss: 0.8911228440018831 , Validation Loss: 0.8874473383218888\n",
      "[93/100]: Training Loss: 0.8799546263394131 , Validation Loss: 0.8844730494748447\n",
      "[94/100]: Training Loss: 0.8894141763229819 , Validation Loss: 0.8815728873699401\n",
      "[95/100]: Training Loss: 0.8944036895573285 , Validation Loss: 0.870734382435782\n",
      "[96/100]: Training Loss: 0.8934346597919148 , Validation Loss: 0.879112634729044\n",
      "[97/100]: Training Loss: 0.8982021496211517 , Validation Loss: 0.8837086132064751\n",
      "[98/100]: Training Loss: 0.8909770908207452 , Validation Loss: 0.8775349786881016\n",
      "[99/100]: Training Loss: 0.941362501350627 , Validation Loss: 0.9458632192110528\n",
      "[100/100]: Training Loss: 0.9144772232406982 , Validation Loss: 0.924078272609718\n"
     ]
    }
   ],
   "source": [
    "history = model.optimize(inputs_train, outputs_train, n_epochs, batch_size, verbose=True, inputs_val=inputs_val, outputs_val=outputs_val)"
   ]
  },
  {
   "cell_type": "code",
   "execution_count": 13,
   "metadata": {},
   "outputs": [
    {
     "data": {
      "image/png": "[encoded data removed]",
      "text/plain": [
       "<Figure size 640x480 with 1 Axes>"
      ]
     },
     "metadata": {},
     "output_type": "display_data"
    }
   ],
   "source": [
    "X = list(range(len(history[\"train_losses\"])))\n",
    "plt.plot(X, history[\"train_losses\"], \"b\", label=\"Training Loss\")\n",
    "plt.plot(X, history[\"val_losses\"], \"r\", label=\"Validation Loss\")\n",
    "plt.xlabel(\"Epoch\")\n",
    "plt.ylabel(\"Loss\")\n",
    "plt.legend()\n",
    "plt.title(\"Training & Validation Loss\")\n",
    "plt.show()"
   ]
  }
 ],
 "metadata": {
  "kernelspec": {
   "display_name": "deep-learning-framework",
   "language": "python",
   "name": "python3"
  },
  "language_info": {
   "codemirror_mode": {
    "name": "ipython",
    "version": 3
   },
   "file_extension": ".py",
   "mimetype": "text/x-python",
   "name": "python",
   "nbconvert_exporter": "python",
   "pygments_lexer": "ipython3",
   "version": "3.10.9"
  },
  "orig_nbformat": 4,
  "vscode": {
   "interpreter": {
    "hash": "4ff79fb053fb88e18eab83b8116863beb7409b92540c23c781114755009620a7"
   }
  }
 },
 "nbformat": 4,
 "nbformat_minor": 2
}
