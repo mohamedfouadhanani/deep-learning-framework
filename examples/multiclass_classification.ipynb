{
 "cells": [
  {
   "cell_type": "code",
   "execution_count": 1,
   "metadata": {},
   "outputs": [],
   "source": [
    "import os\n",
    "import sys\n",
    "sys.path.append(os.path.dirname(os.getcwd()))"
   ]
  },
  {
   "cell_type": "code",
   "execution_count": 2,
   "metadata": {},
   "outputs": [],
   "source": [
    "import numpy as np\n",
    "from matplotlib import pyplot as plt\n",
    "\n",
    "from dl import Model\n",
    "from dl import Dense\n",
    "from dl.activations import TanH, ReLU\n",
    "from dl.losses import CategoricalCrossEntropy\n",
    "from dl.regularization import Dropout\n",
    "from dl.optimizers import MiniBatchGradientDescent"
   ]
  },
  {
   "cell_type": "code",
   "execution_count": 3,
   "metadata": {},
   "outputs": [],
   "source": [
    "m, n = 1000, 4\n",
    "inputs = np.random.uniform(-1, 1, size=(m, n))\n",
    "y = (inputs > 0).sum(axis=1)\n",
    "\n",
    "outputs = np.zeros((m, n + 1))\n",
    "outputs[range(m), y] = 1"
   ]
  },
  {
   "cell_type": "code",
   "execution_count": 4,
   "metadata": {},
   "outputs": [
    {
     "name": "stdout",
     "output_type": "stream",
     "text": [
      "(800, 4) (800, 5)\n",
      "(40, 4) (40, 5)\n",
      "(160, 4) (160, 5)\n"
     ]
    }
   ],
   "source": [
    "# train, val, test split\n",
    "def train_test_split(inputs, outputs, pourcentage):\n",
    "    m, _ = inputs.shape\n",
    "    permutation = np.random.permutation(m)\n",
    "    m_train = np.ceil(m * pourcentage).astype(int)\n",
    "\n",
    "    inputs_train = inputs[permutation[:m_train]]\n",
    "    inputs_test = inputs[permutation[m_train:]]\n",
    "\n",
    "    outputs_train = outputs[permutation[:m_train]]\n",
    "    outputs_test = outputs[permutation[m_train:]]\n",
    "\n",
    "    return inputs_train, outputs_train, inputs_test, outputs_test\n",
    "\n",
    "inputs_train, outputs_train, inputs_test, outputs_test = train_test_split(inputs, outputs, pourcentage=0.8)\n",
    "inputs_val, outputs_val, inputs_test, outputs_test = train_test_split(inputs_test, outputs_test, pourcentage=0.8)\n",
    "\n",
    "print(inputs_train.shape, outputs_train.shape)\n",
    "print(inputs_test.shape, outputs_test.shape)\n",
    "print(inputs_val.shape, outputs_val.shape)"
   ]
  },
  {
   "cell_type": "code",
   "execution_count": 5,
   "metadata": {},
   "outputs": [],
   "source": [
    "model = Model([\n",
    "    Dense(n, 8),\n",
    "    ReLU(),\n",
    "    Dense(8, 16),\n",
    "    ReLU(),\n",
    "    Dense(16, 32),\n",
    "    TanH(),\n",
    "    # Dropout(keep_prob=0.8),\n",
    "    Dense(32, n + 1)\n",
    "])"
   ]
  },
  {
   "cell_type": "code",
   "execution_count": 6,
   "metadata": {},
   "outputs": [],
   "source": [
    "loss = CategoricalCrossEntropy()"
   ]
  },
  {
   "cell_type": "code",
   "execution_count": 7,
   "metadata": {},
   "outputs": [],
   "source": [
    "n_epochs = 100\n",
    "learning_rate = 0.01\n",
    "batch_size = 128"
   ]
  },
  {
   "cell_type": "code",
   "execution_count": 8,
   "metadata": {},
   "outputs": [],
   "source": [
    "optimizer = MiniBatchGradientDescent(batch_size, learning_rate)"
   ]
  },
  {
   "cell_type": "code",
   "execution_count": 9,
   "metadata": {},
   "outputs": [],
   "source": [
    "model.compile(loss, optimizer)"
   ]
  },
  {
   "cell_type": "code",
   "execution_count": 10,
   "metadata": {},
   "outputs": [],
   "source": [
    "history = model.optimize(inputs_train, outputs_train, n_epochs, verbose=False)"
   ]
  },
  {
   "cell_type": "code",
   "execution_count": 11,
   "metadata": {},
   "outputs": [
    {
     "data": {
      "image/png": "[encoded data removed]",
      "text/plain": [
       "<Figure size 640x480 with 1 Axes>"
      ]
     },
     "metadata": {},
     "output_type": "display_data"
    }
   ],
   "source": [
    "plt.plot(list(range(len(history[\"losses\"]))), history[\"losses\"])\n",
    "plt.xlabel(\"iteration\")\n",
    "plt.ylabel(\"loss\")\n",
    "plt.show()"
   ]
  },
  {
   "cell_type": "code",
   "execution_count": 12,
   "metadata": {},
   "outputs": [
    {
     "name": "stdout",
     "output_type": "stream",
     "text": [
      "1.5426145554069328\n"
     ]
    }
   ],
   "source": [
    "predictions = model(inputs_val, is_optimizing=False)\n",
    "l = loss.forward(predictions, outputs_val)\n",
    "\n",
    "print(l)"
   ]
  },
  {
   "cell_type": "code",
   "execution_count": 13,
   "metadata": {},
   "outputs": [
    {
     "name": "stdout",
     "output_type": "stream",
     "text": [
      "1.5318067585050443\n"
     ]
    }
   ],
   "source": [
    "predictions = model(inputs_test, is_optimizing=False)\n",
    "l = loss.forward(predictions, outputs_test)\n",
    "\n",
    "print(l)"
   ]
  }
 ],
 "metadata": {
  "kernelspec": {
   "display_name": "deep-learning-framework",
   "language": "python",
   "name": "python3"
  },
  "language_info": {
   "codemirror_mode": {
    "name": "ipython",
    "version": 3
   },
   "file_extension": ".py",
   "mimetype": "text/x-python",
   "name": "python",
   "nbconvert_exporter": "python",
   "pygments_lexer": "ipython3",
   "version": "3.10.9"
  },
  "orig_nbformat": 4,
  "vscode": {
   "interpreter": {
    "hash": "4ff79fb053fb88e18eab83b8116863beb7409b92540c23c781114755009620a7"
   }
  }
 },
 "nbformat": 4,
 "nbformat_minor": 2
}
