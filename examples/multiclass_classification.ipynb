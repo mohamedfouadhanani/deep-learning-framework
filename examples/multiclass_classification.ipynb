{
 "cells": [
  {
   "cell_type": "code",
   "execution_count": 1,
   "metadata": {},
   "outputs": [],
   "source": [
    "import os\n",
    "import sys\n",
    "sys.path.append(os.path.dirname(os.getcwd()))"
   ]
  },
  {
   "cell_type": "code",
   "execution_count": 2,
   "metadata": {},
   "outputs": [],
   "source": [
    "import numpy as np\n",
    "from matplotlib import pyplot as plt\n",
    "\n",
    "from dl import Model\n",
    "from dl import Dense\n",
    "from dl.activations import TanH, ReLU, Softmax\n",
    "from dl.losses import CategoricalCrossEntropy\n",
    "from dl.regularization import Dropout\n",
    "from dl.optimizers import AdaptiveMomentEstimation\n",
    "from dl import BatchNormalization"
   ]
  },
  {
   "cell_type": "code",
   "execution_count": 3,
   "metadata": {},
   "outputs": [],
   "source": [
    "m, n = 2000, 4\n",
    "inputs = np.random.uniform(-1, 1, size=(m, n))\n",
    "y = (inputs > 0).sum(axis=1)\n",
    "\n",
    "outputs = np.zeros((m, n + 1))\n",
    "outputs[range(m), y] = 1"
   ]
  },
  {
   "cell_type": "code",
   "execution_count": 4,
   "metadata": {},
   "outputs": [
    {
     "name": "stdout",
     "output_type": "stream",
     "text": [
      "(1600, 4) (1600, 5)\n",
      "(80, 4) (80, 5)\n",
      "(320, 4) (320, 5)\n"
     ]
    }
   ],
   "source": [
    "# train, val, test split\n",
    "def train_test_split(inputs, outputs, pourcentage):\n",
    "    m, _ = inputs.shape\n",
    "    permutation = np.random.permutation(m)\n",
    "    m_train = np.ceil(m * pourcentage).astype(int)\n",
    "\n",
    "    inputs_train = inputs[permutation[:m_train]]\n",
    "    inputs_test = inputs[permutation[m_train:]]\n",
    "\n",
    "    outputs_train = outputs[permutation[:m_train]]\n",
    "    outputs_test = outputs[permutation[m_train:]]\n",
    "\n",
    "    return inputs_train, outputs_train, inputs_test, outputs_test\n",
    "\n",
    "inputs_train, outputs_train, inputs_test, outputs_test = train_test_split(inputs, outputs, pourcentage=0.8)\n",
    "inputs_val, outputs_val, inputs_test, outputs_test = train_test_split(inputs_test, outputs_test, pourcentage=0.8)\n",
    "\n",
    "print(inputs_train.shape, outputs_train.shape)\n",
    "print(inputs_test.shape, outputs_test.shape)\n",
    "print(inputs_val.shape, outputs_val.shape)"
   ]
  },
  {
   "cell_type": "code",
   "execution_count": 5,
   "metadata": {},
   "outputs": [],
   "source": [
    "model = Model([\n",
    "    Dense(n, 8),\n",
    "    ReLU(),\n",
    "    BatchNormalization(),\n",
    "    Dense(8, 16),\n",
    "    ReLU(),\n",
    "    BatchNormalization(),\n",
    "    Dropout(keep_prob=0.3),\n",
    "    Dense(16, 32),\n",
    "    TanH(),\n",
    "    BatchNormalization(),\n",
    "    Dropout(keep_prob=0.4),\n",
    "    Dense(32, n + 1), \n",
    "    Softmax()\n",
    "])"
   ]
  },
  {
   "cell_type": "code",
   "execution_count": 6,
   "metadata": {},
   "outputs": [],
   "source": [
    "loss = CategoricalCrossEntropy()"
   ]
  },
  {
   "cell_type": "code",
   "execution_count": 7,
   "metadata": {},
   "outputs": [],
   "source": [
    "n_epochs = 100\n",
    "learning_rate = 0.1\n",
    "batch_size = 128\n",
    "beta1 = 0.9\n",
    "beta2 = 0.99"
   ]
  },
  {
   "cell_type": "code",
   "execution_count": 8,
   "metadata": {},
   "outputs": [],
   "source": [
    "optimizer = AdaptiveMomentEstimation(learning_rate, batch_size, beta1, beta2)"
   ]
  },
  {
   "cell_type": "code",
   "execution_count": 9,
   "metadata": {},
   "outputs": [],
   "source": [
    "model.compile(loss, optimizer)"
   ]
  },
  {
   "cell_type": "code",
   "execution_count": 10,
   "metadata": {},
   "outputs": [
    {
     "name": "stdout",
     "output_type": "stream",
     "text": [
      "[1/100]: Training Loss: 24.872866784027018 , Validation Loss: 23.90294543967559\n",
      "[2/100]: Training Loss: 2.4839200382395203 , Validation Loss: 2.4420259657080594\n",
      "[3/100]: Training Loss: 1.4738430371672657 , Validation Loss: 1.4969841873953247\n",
      "[4/100]: Training Loss: 1.4274282933630682 , Validation Loss: 1.4647303542383827\n",
      "[5/100]: Training Loss: 1.436948164823889 , Validation Loss: 1.4772402748925135\n",
      "[6/100]: Training Loss: 1.4203572963358517 , Validation Loss: 1.4710739623093367\n",
      "[7/100]: Training Loss: 1.4216114863496563 , Validation Loss: 1.4622428634138405\n",
      "[8/100]: Training Loss: 1.4206148277582127 , Validation Loss: 1.4618006582275964\n",
      "[9/100]: Training Loss: 1.4201626763199626 , Validation Loss: 1.4656979852830356\n",
      "[10/100]: Training Loss: 1.4181051922974006 , Validation Loss: 1.4636077248093986\n",
      "[11/100]: Training Loss: 1.420583164463914 , Validation Loss: 1.4683158675229013\n",
      "[12/100]: Training Loss: 1.4201578814986424 , Validation Loss: 1.4669400142714237\n",
      "[13/100]: Training Loss: 1.4232608753399558 , Validation Loss: 1.471672947332123\n",
      "[14/100]: Training Loss: 1.4208660953300187 , Validation Loss: 1.467994698365672\n",
      "[15/100]: Training Loss: 1.4219786095849827 , Validation Loss: 1.4703116384595591\n",
      "[16/100]: Training Loss: 1.405610741138872 , Validation Loss: 1.453383299887554\n",
      "[17/100]: Training Loss: 1.4209202048101384 , Validation Loss: 1.466673318689536\n",
      "[18/100]: Training Loss: 1.2524852342303077 , Validation Loss: 1.2843174794901044\n",
      "[19/100]: Training Loss: 1.1755200059108295 , Validation Loss: 1.2161637079555496\n",
      "[20/100]: Training Loss: 1.0851212854778345 , Validation Loss: 1.128953099810906\n",
      "[21/100]: Training Loss: 1.0898420944429525 , Validation Loss: 1.1214090344614747\n",
      "[22/100]: Training Loss: 1.0262295231216958 , Validation Loss: 1.0406877470489124\n",
      "[23/100]: Training Loss: 1.0728267276655143 , Validation Loss: 1.0699647902011473\n",
      "[24/100]: Training Loss: 1.0481358350376793 , Validation Loss: 1.05559016488467\n",
      "[25/100]: Training Loss: 1.0548784374464266 , Validation Loss: 1.0633822986741541\n",
      "[26/100]: Training Loss: 1.0791045845387826 , Validation Loss: 1.113907717321699\n",
      "[27/100]: Training Loss: 1.0239917339396476 , Validation Loss: 1.0430194355841906\n",
      "[28/100]: Training Loss: 1.0311518453549768 , Validation Loss: 1.069959719274734\n",
      "[29/100]: Training Loss: 0.9813000261840008 , Validation Loss: 1.0115292123925066\n",
      "[30/100]: Training Loss: 1.066813304984394 , Validation Loss: 1.1041099097049767\n",
      "[31/100]: Training Loss: 1.027331823380255 , Validation Loss: 1.0804079439150989\n",
      "[32/100]: Training Loss: 1.0384827774272989 , Validation Loss: 1.0617547413517738\n",
      "[33/100]: Training Loss: 1.0040770822023726 , Validation Loss: 1.027449047676032\n",
      "[34/100]: Training Loss: 0.9668189460631654 , Validation Loss: 0.9730450560132592\n",
      "[35/100]: Training Loss: 0.9981192207052736 , Validation Loss: 1.0215673100548135\n",
      "[36/100]: Training Loss: 1.0245704700126663 , Validation Loss: 1.0558424485001896\n",
      "[37/100]: Training Loss: 0.9915888558665622 , Validation Loss: 1.0072573161416738\n",
      "[38/100]: Training Loss: 0.9933095292710157 , Validation Loss: 1.0172533409765272\n",
      "[39/100]: Training Loss: 0.9715708490386832 , Validation Loss: 0.9741277444213825\n",
      "[40/100]: Training Loss: 0.9742161987049617 , Validation Loss: 0.9831071240971019\n",
      "[41/100]: Training Loss: 1.0194522764102145 , Validation Loss: 1.0440874750031917\n",
      "[42/100]: Training Loss: 0.9764588511870734 , Validation Loss: 0.9738910112081502\n",
      "[43/100]: Training Loss: 0.9648963392080262 , Validation Loss: 0.9723493400844803\n",
      "[44/100]: Training Loss: 0.9820642569280486 , Validation Loss: 0.9970025186933598\n",
      "[45/100]: Training Loss: 0.9422618777550898 , Validation Loss: 0.9458007932821173\n",
      "[46/100]: Training Loss: 0.9987523778815199 , Validation Loss: 1.0241501459657287\n",
      "[47/100]: Training Loss: 0.9914250707714928 , Validation Loss: 0.9923429810157627\n",
      "[48/100]: Training Loss: 0.908916902576832 , Validation Loss: 0.9005764906805475\n",
      "[49/100]: Training Loss: 0.9941300031116138 , Validation Loss: 1.0068086877808977\n",
      "[50/100]: Training Loss: 0.935819396464123 , Validation Loss: 0.9449809967897718\n",
      "[51/100]: Training Loss: 0.9584884380183394 , Validation Loss: 0.9974301405061698\n",
      "[52/100]: Training Loss: 0.9430181265565974 , Validation Loss: 0.9730139523500485\n",
      "[53/100]: Training Loss: 1.0147092367934796 , Validation Loss: 1.0462275423410206\n",
      "[54/100]: Training Loss: 0.9669866452343305 , Validation Loss: 0.9765755950992023\n",
      "[55/100]: Training Loss: 0.9803837091685261 , Validation Loss: 1.012674145897687\n",
      "[56/100]: Training Loss: 0.971571679626582 , Validation Loss: 1.010366769839776\n",
      "[57/100]: Training Loss: 0.9854792005754216 , Validation Loss: 0.9959824795362138\n",
      "[58/100]: Training Loss: 0.9769504112249675 , Validation Loss: 0.99341083847879\n",
      "[59/100]: Training Loss: 0.9527878805884359 , Validation Loss: 0.9684208859871276\n",
      "[60/100]: Training Loss: 0.9796739876087269 , Validation Loss: 0.9922660980098655\n",
      "[61/100]: Training Loss: 0.9290902678091393 , Validation Loss: 0.9480304091745847\n",
      "[62/100]: Training Loss: 1.0088303192482568 , Validation Loss: 1.0164710960552101\n",
      "[63/100]: Training Loss: 1.0180954426609043 , Validation Loss: 1.0450686986875315\n",
      "[64/100]: Training Loss: 0.9993466647261116 , Validation Loss: 1.0263612905260662\n",
      "[65/100]: Training Loss: 0.9586930163168919 , Validation Loss: 0.9714854492817512\n",
      "[66/100]: Training Loss: 1.0006879802946522 , Validation Loss: 1.0138744696252213\n",
      "[67/100]: Training Loss: 0.9926253823554703 , Validation Loss: 0.9897185044171412\n",
      "[68/100]: Training Loss: 0.9911672952722926 , Validation Loss: 0.9986362178034959\n",
      "[69/100]: Training Loss: 0.9930982720411891 , Validation Loss: 1.0312649676303958\n",
      "[70/100]: Training Loss: 0.9536749198518301 , Validation Loss: 0.9540563932977832\n",
      "[71/100]: Training Loss: 1.0045901428519548 , Validation Loss: 1.0054491511874075\n",
      "[72/100]: Training Loss: 0.9026344794048038 , Validation Loss: 0.9245418009176095\n",
      "[73/100]: Training Loss: 1.0276282876434963 , Validation Loss: 1.0573236475117462\n",
      "[74/100]: Training Loss: 0.9580772501510861 , Validation Loss: 0.9933636813107019\n",
      "[75/100]: Training Loss: 0.92612439864822 , Validation Loss: 0.9518846586432701\n",
      "[76/100]: Training Loss: 1.0279432440214158 , Validation Loss: 1.0590886913641226\n",
      "[77/100]: Training Loss: 0.9443977392071033 , Validation Loss: 0.9677767594923186\n",
      "[78/100]: Training Loss: 0.9928545939011815 , Validation Loss: 0.997638912625332\n",
      "[79/100]: Training Loss: 0.969060681597801 , Validation Loss: 0.9901733073038017\n",
      "[80/100]: Training Loss: 0.9579965637227568 , Validation Loss: 0.9793658426900791\n",
      "[81/100]: Training Loss: 0.9572750146682028 , Validation Loss: 0.9752872870511663\n",
      "[82/100]: Training Loss: 0.9427058645780033 , Validation Loss: 0.970011783594552\n",
      "[83/100]: Training Loss: 0.9440579646086538 , Validation Loss: 0.9650234228626591\n",
      "[84/100]: Training Loss: 0.969434129354226 , Validation Loss: 0.9924292478292374\n",
      "[85/100]: Training Loss: 0.9771550518223513 , Validation Loss: 0.9674060112395455\n",
      "[86/100]: Training Loss: 0.9818935401220205 , Validation Loss: 0.9955343273514463\n",
      "[87/100]: Training Loss: 0.9280624844373082 , Validation Loss: 0.9385077468080087\n",
      "[88/100]: Training Loss: 0.9524384265442168 , Validation Loss: 0.9768677916718428\n",
      "[89/100]: Training Loss: 0.9964477218075917 , Validation Loss: 1.0199213754998542\n",
      "[90/100]: Training Loss: 1.0195120842870597 , Validation Loss: 1.0292129193175135\n",
      "[91/100]: Training Loss: 0.9690917554591748 , Validation Loss: 0.9826381810078477\n",
      "[92/100]: Training Loss: 0.9546066736900292 , Validation Loss: 0.9628663081014522\n",
      "[93/100]: Training Loss: 0.928249499645335 , Validation Loss: 0.9071152121662734\n",
      "[94/100]: Training Loss: 0.9839953222983265 , Validation Loss: 0.9604565774574301\n",
      "[95/100]: Training Loss: 0.9803693174737882 , Validation Loss: 0.9949301675461673\n",
      "[96/100]: Training Loss: 0.9797134602519012 , Validation Loss: 0.9916120701378108\n",
      "[97/100]: Training Loss: 0.9365580163672726 , Validation Loss: 0.9308824050904431\n",
      "[98/100]: Training Loss: 0.9629171504697156 , Validation Loss: 0.9590978633668474\n",
      "[99/100]: Training Loss: 0.9877325457233291 , Validation Loss: 0.9889034545553332\n",
      "[100/100]: Training Loss: 0.9048077473385377 , Validation Loss: 0.9009326341980882\n"
     ]
    }
   ],
   "source": [
    "history = model.optimize(inputs_train, outputs_train, n_epochs, verbose=True, inputs_val=inputs_val, outputs_val=outputs_val)"
   ]
  },
  {
   "cell_type": "code",
   "execution_count": 11,
   "metadata": {},
   "outputs": [
    {
     "data": {
      "image/png": "[encoded data removed]",
      "text/plain": [
       "<Figure size 640x480 with 1 Axes>"
      ]
     },
     "metadata": {},
     "output_type": "display_data"
    }
   ],
   "source": [
    "X = list(range(len(history[\"train_losses\"])))\n",
    "plt.plot(X, history[\"train_losses\"], \"b\", label=\"Training Loss\")\n",
    "plt.plot(X, history[\"val_losses\"], \"r\", label=\"Validation Loss\")\n",
    "plt.xlabel(\"Epoch\")\n",
    "plt.ylabel(\"Loss\")\n",
    "plt.legend()\n",
    "plt.title(\"Training & Validation Loss\")\n",
    "plt.show()"
   ]
  }
 ],
 "metadata": {
  "kernelspec": {
   "display_name": "deep-learning-framework",
   "language": "python",
   "name": "python3"
  },
  "language_info": {
   "codemirror_mode": {
    "name": "ipython",
    "version": 3
   },
   "file_extension": ".py",
   "mimetype": "text/x-python",
   "name": "python",
   "nbconvert_exporter": "python",
   "pygments_lexer": "ipython3",
   "version": "3.10.9"
  },
  "orig_nbformat": 4,
  "vscode": {
   "interpreter": {
    "hash": "4ff79fb053fb88e18eab83b8116863beb7409b92540c23c781114755009620a7"
   }
  }
 },
 "nbformat": 4,
 "nbformat_minor": 2
}
