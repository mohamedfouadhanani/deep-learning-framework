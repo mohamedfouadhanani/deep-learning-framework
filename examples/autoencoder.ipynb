{
 "cells": [
  {
   "cell_type": "code",
   "execution_count": 1,
   "metadata": {},
   "outputs": [],
   "source": [
    "import os\n",
    "import sys\n",
    "sys.path.append(os.path.dirname(os.getcwd()))"
   ]
  },
  {
   "cell_type": "code",
   "execution_count": 2,
   "metadata": {},
   "outputs": [],
   "source": [
    "import numpy as np\n",
    "from matplotlib import pyplot as plt\n",
    "\n",
    "from dl import Model\n",
    "from dl import Dense\n",
    "from dl.activations import TanH, ReLU, LeakyReLU\n",
    "from dl.losses import MAE, MSE\n",
    "from dl.regularization import Dropout\n",
    "from dl.optimizers import AdaptiveMomentEstimation\n",
    "from dl.normalization import BatchNormalization\n",
    "from dl.normalization import LayerNormalization"
   ]
  },
  {
   "cell_type": "code",
   "execution_count": 3,
   "metadata": {},
   "outputs": [],
   "source": [
    "m, n = 2000, 10\n",
    "inputs = np.random.randn(m, n)\n",
    "outputs = 2 * inputs + 1"
   ]
  },
  {
   "cell_type": "code",
   "execution_count": 4,
   "metadata": {},
   "outputs": [
    {
     "name": "stdout",
     "output_type": "stream",
     "text": [
      "(1400, 10) (1400, 10)\n",
      "(300, 10) (300, 10)\n",
      "(300, 10) (300, 10)\n"
     ]
    }
   ],
   "source": [
    "# train, val, test split\n",
    "def train_test_split(inputs, outputs, pourcentage):\n",
    "    m, _ = inputs.shape\n",
    "    permutation = np.random.permutation(m)\n",
    "    m_train = np.ceil(m * pourcentage).astype(int)\n",
    "\n",
    "    inputs_train = inputs[permutation[:m_train]]\n",
    "    inputs_test = inputs[permutation[m_train:]]\n",
    "\n",
    "    outputs_train = outputs[permutation[:m_train]]\n",
    "    outputs_test = outputs[permutation[m_train:]]\n",
    "\n",
    "    return inputs_train, outputs_train, inputs_test, outputs_test\n",
    "\n",
    "inputs_train, outputs_train, inputs_test, outputs_test = train_test_split(inputs, outputs, pourcentage=0.7)\n",
    "inputs_val, outputs_val, inputs_test, outputs_test = train_test_split(inputs_test, outputs_test, pourcentage=0.5)\n",
    "\n",
    "print(inputs_train.shape, outputs_train.shape)\n",
    "print(inputs_test.shape, outputs_test.shape)\n",
    "print(inputs_val.shape, outputs_val.shape)"
   ]
  },
  {
   "cell_type": "code",
   "execution_count": 5,
   "metadata": {},
   "outputs": [],
   "source": [
    "model = Model([\n",
    "    Dense(n, 32),\n",
    "    BatchNormalization(),\n",
    "    ReLU(),\n",
    "    Dropout(keep_prob=0.9),\n",
    "    Dense(32, 5),\n",
    "    LayerNormalization(),\n",
    "    ReLU(),\n",
    "    Dropout(keep_prob=0.7),\n",
    "    Dense(5, 32),\n",
    "    BatchNormalization(),\n",
    "    LeakyReLU(0.3),\n",
    "    Dropout(keep_prob=0.8),\n",
    "    Dense(32, n)\n",
    "])"
   ]
  },
  {
   "cell_type": "code",
   "execution_count": 6,
   "metadata": {},
   "outputs": [],
   "source": [
    "n_epochs = 100\n",
    "learning_rate = 0.1\n",
    "batch_size = 128\n",
    "beta1 = 0.9\n",
    "beta2 = 0.99"
   ]
  },
  {
   "cell_type": "code",
   "execution_count": 7,
   "metadata": {},
   "outputs": [],
   "source": [
    "loss = MSE()\n",
    "# loss = MAE()"
   ]
  },
  {
   "cell_type": "code",
   "execution_count": 8,
   "metadata": {},
   "outputs": [],
   "source": [
    "optimizer = AdaptiveMomentEstimation(learning_rate, beta1, beta2)"
   ]
  },
  {
   "cell_type": "code",
   "execution_count": 9,
   "metadata": {},
   "outputs": [],
   "source": [
    "model.compile(loss, optimizer)"
   ]
  },
  {
   "cell_type": "code",
   "execution_count": 10,
   "metadata": {},
   "outputs": [
    {
     "name": "stdout",
     "output_type": "stream",
     "text": [
      "[1/100]: Training Loss: 304.98877688085264 , Validation Loss: 309.3618634526256\n",
      "[2/100]: Training Loss: 23.769860490805897 , Validation Loss: 24.87476870796801\n",
      "[3/100]: Training Loss: 41.676829897515375 , Validation Loss: 41.82673843340719\n",
      "[4/100]: Training Loss: 25.07880919106353 , Validation Loss: 25.594218969944635\n",
      "[5/100]: Training Loss: 18.931259858939388 , Validation Loss: 20.01031326238118\n",
      "[6/100]: Training Loss: 19.129108560269735 , Validation Loss: 20.360698789046808\n",
      "[7/100]: Training Loss: 19.25386453243082 , Validation Loss: 20.28456069808846\n",
      "[8/100]: Training Loss: 18.509094005916698 , Validation Loss: 19.461975437856417\n",
      "[9/100]: Training Loss: 18.080178644852996 , Validation Loss: 19.079182928391354\n",
      "[10/100]: Training Loss: 17.93425672302379 , Validation Loss: 18.991773322550543\n",
      "[11/100]: Training Loss: 17.824327732711758 , Validation Loss: 18.938516923364567\n",
      "[12/100]: Training Loss: 17.761505161531172 , Validation Loss: 18.872154027960697\n",
      "[13/100]: Training Loss: 17.648386478266854 , Validation Loss: 18.739045829147482\n",
      "[14/100]: Training Loss: 17.57541044923861 , Validation Loss: 18.670535347230445\n",
      "[15/100]: Training Loss: 17.42834165964353 , Validation Loss: 18.504742141647323\n",
      "[16/100]: Training Loss: 17.282070019011776 , Validation Loss: 18.374215067121398\n",
      "[17/100]: Training Loss: 17.137504442066852 , Validation Loss: 18.24964374242951\n",
      "[18/100]: Training Loss: 16.833633246008702 , Validation Loss: 17.931730456309246\n",
      "[19/100]: Training Loss: 16.845260537931505 , Validation Loss: 17.994049742427887\n",
      "[20/100]: Training Loss: 16.817988927953 , Validation Loss: 17.992458724517867\n",
      "[21/100]: Training Loss: 16.759367046289626 , Validation Loss: 17.969181102488815\n",
      "[22/100]: Training Loss: 16.687778577080977 , Validation Loss: 17.898247623675438\n",
      "[23/100]: Training Loss: 16.611906869106075 , Validation Loss: 17.849837331303203\n",
      "[24/100]: Training Loss: 16.600735477936208 , Validation Loss: 17.85787986764131\n",
      "[25/100]: Training Loss: 16.59243281430278 , Validation Loss: 17.860172575083368\n",
      "[26/100]: Training Loss: 16.545868936948708 , Validation Loss: 17.83353442673852\n",
      "[27/100]: Training Loss: 16.4491391380552 , Validation Loss: 17.731053719582608\n",
      "[28/100]: Training Loss: 16.456727144114176 , Validation Loss: 17.75259620080209\n",
      "[29/100]: Training Loss: 16.483838310964988 , Validation Loss: 17.821966560114664\n",
      "[30/100]: Training Loss: 16.263848453705837 , Validation Loss: 17.56912671494629\n",
      "[31/100]: Training Loss: 16.221848759417604 , Validation Loss: 17.514384695213227\n",
      "[32/100]: Training Loss: 16.228856521655313 , Validation Loss: 17.516641690317137\n",
      "[33/100]: Training Loss: 16.1807134793885 , Validation Loss: 17.441149643943906\n",
      "[34/100]: Training Loss: 16.31452963930568 , Validation Loss: 17.584043471947187\n",
      "[35/100]: Training Loss: 16.162870612236397 , Validation Loss: 17.420814330410693\n",
      "[36/100]: Training Loss: 16.036863860744816 , Validation Loss: 17.287957394928622\n",
      "[37/100]: Training Loss: 15.972003156521833 , Validation Loss: 17.174472483596322\n",
      "[38/100]: Training Loss: 16.100555977088792 , Validation Loss: 17.385796609792024\n",
      "[39/100]: Training Loss: 15.847581364176397 , Validation Loss: 17.11132602676801\n",
      "[40/100]: Training Loss: 15.830372663281725 , Validation Loss: 17.05027923758486\n",
      "[41/100]: Training Loss: 15.81977009486296 , Validation Loss: 17.075486003813577\n",
      "[42/100]: Training Loss: 15.810714872239231 , Validation Loss: 17.04534289520417\n",
      "[43/100]: Training Loss: 15.898877652970121 , Validation Loss: 17.17950984727902\n",
      "[44/100]: Training Loss: 15.802025049258107 , Validation Loss: 17.05736092743725\n",
      "[45/100]: Training Loss: 15.863485075395078 , Validation Loss: 17.168241598244787\n",
      "[46/100]: Training Loss: 15.604009151173596 , Validation Loss: 16.90396479389002\n",
      "[47/100]: Training Loss: 15.79214400818639 , Validation Loss: 17.087631657853834\n",
      "[48/100]: Training Loss: 15.637912082052761 , Validation Loss: 16.89395914147175\n",
      "[49/100]: Training Loss: 15.696478842115804 , Validation Loss: 16.97449494221097\n",
      "[50/100]: Training Loss: 15.357773392121414 , Validation Loss: 16.63899590258317\n",
      "[51/100]: Training Loss: 15.724746974608337 , Validation Loss: 16.99655743576242\n",
      "[52/100]: Training Loss: 15.52601506675991 , Validation Loss: 16.765447685644222\n",
      "[53/100]: Training Loss: 15.586933266544303 , Validation Loss: 16.884472423582398\n",
      "[54/100]: Training Loss: 15.593756900114567 , Validation Loss: 16.933147113023157\n",
      "[55/100]: Training Loss: 15.506238633272089 , Validation Loss: 16.816153152431806\n",
      "[56/100]: Training Loss: 15.541718386877456 , Validation Loss: 16.906818646165892\n",
      "[57/100]: Training Loss: 15.543724716463423 , Validation Loss: 16.88885483643771\n",
      "[58/100]: Training Loss: 15.407248199402087 , Validation Loss: 16.74606697710305\n",
      "[59/100]: Training Loss: 15.46580421102565 , Validation Loss: 16.84132468039528\n",
      "[60/100]: Training Loss: 15.641767067629875 , Validation Loss: 17.06599733566378\n",
      "[61/100]: Training Loss: 15.495273194775946 , Validation Loss: 16.856447666709663\n",
      "[62/100]: Training Loss: 15.645597591492546 , Validation Loss: 17.040575727431907\n",
      "[63/100]: Training Loss: 15.280125121589522 , Validation Loss: 16.715365593461236\n",
      "[64/100]: Training Loss: 15.689319581136244 , Validation Loss: 17.075504019432845\n",
      "[65/100]: Training Loss: 15.492834682412544 , Validation Loss: 16.890417006303608\n",
      "[66/100]: Training Loss: 15.810290916968121 , Validation Loss: 17.207574025915815\n",
      "[67/100]: Training Loss: 16.792394390191507 , Validation Loss: 18.156670384642474\n",
      "[68/100]: Training Loss: 17.976923022080033 , Validation Loss: 19.10520403799555\n",
      "[69/100]: Training Loss: 18.01247455913588 , Validation Loss: 19.069248275751566\n",
      "[70/100]: Training Loss: 19.003399673970506 , Validation Loss: 20.16098611372444\n",
      "[71/100]: Training Loss: 18.633691223607492 , Validation Loss: 19.72245771927962\n",
      "[72/100]: Training Loss: 18.67318149283702 , Validation Loss: 19.776431847368574\n",
      "[73/100]: Training Loss: 18.668498660461665 , Validation Loss: 19.832145405713717\n",
      "[74/100]: Training Loss: 18.457009169525264 , Validation Loss: 19.603203758969762\n",
      "[75/100]: Training Loss: 18.208656193039136 , Validation Loss: 19.296326046933554\n",
      "[76/100]: Training Loss: 18.280453040442435 , Validation Loss: 19.24476998070939\n",
      "[77/100]: Training Loss: 18.333541290886544 , Validation Loss: 19.464205520615238\n",
      "[78/100]: Training Loss: 18.40140186771729 , Validation Loss: 19.53973268710022\n",
      "[79/100]: Training Loss: 18.202011016391335 , Validation Loss: 19.323991983881957\n",
      "[80/100]: Training Loss: 18.112812168996026 , Validation Loss: 19.231039015658798\n",
      "[81/100]: Training Loss: 17.839644046040544 , Validation Loss: 18.96459447391718\n",
      "[82/100]: Training Loss: 17.789844002974476 , Validation Loss: 18.99182731304748\n",
      "[83/100]: Training Loss: 17.589156694977056 , Validation Loss: 18.761929384763736\n",
      "[84/100]: Training Loss: 17.846481953878328 , Validation Loss: 19.197913075949874\n",
      "[85/100]: Training Loss: 17.899490046481997 , Validation Loss: 19.188128081760674\n",
      "[86/100]: Training Loss: 17.64784092698235 , Validation Loss: 19.04071604568596\n",
      "[87/100]: Training Loss: 17.669292475004564 , Validation Loss: 19.00855822505402\n",
      "[88/100]: Training Loss: 17.73398345149509 , Validation Loss: 19.000043349503347\n",
      "[89/100]: Training Loss: 17.520361807487323 , Validation Loss: 18.806443686234648\n",
      "[90/100]: Training Loss: 18.16814764621129 , Validation Loss: 19.35821631239123\n",
      "[91/100]: Training Loss: 18.772523522381064 , Validation Loss: 20.240137177121106\n",
      "[92/100]: Training Loss: 18.843259141751453 , Validation Loss: 20.15985903498647\n",
      "[93/100]: Training Loss: 18.66529143312205 , Validation Loss: 20.04984467140478\n",
      "[94/100]: Training Loss: 18.55458035758645 , Validation Loss: 19.954992097776337\n",
      "[95/100]: Training Loss: 18.600726506463438 , Validation Loss: 20.026669841936286\n",
      "[96/100]: Training Loss: 18.60891432921054 , Validation Loss: 20.060500126994498\n",
      "[97/100]: Training Loss: 18.686017361456113 , Validation Loss: 20.158838329791976\n",
      "[98/100]: Training Loss: 18.747213549173182 , Validation Loss: 20.15350522681097\n",
      "[99/100]: Training Loss: 18.717028207898927 , Validation Loss: 20.10342690316924\n",
      "[100/100]: Training Loss: 18.8055814888469 , Validation Loss: 20.17983837549816\n"
     ]
    }
   ],
   "source": [
    "history = model.optimize(inputs_train, outputs_train, n_epochs, batch_size, verbose=True, inputs_val=inputs_val, outputs_val=outputs_val)"
   ]
  },
  {
   "cell_type": "code",
   "execution_count": 11,
   "metadata": {},
   "outputs": [
    {
     "data": {
      "image/png": "[encoded data removed]",
      "text/plain": [
       "<Figure size 640x480 with 1 Axes>"
      ]
     },
     "metadata": {},
     "output_type": "display_data"
    }
   ],
   "source": [
    "X = list(range(len(history[\"train_losses\"])))\n",
    "plt.plot(X, history[\"train_losses\"], \"b\", label=\"Training Loss\")\n",
    "plt.plot(X, history[\"val_losses\"], \"r\", label=\"Validation Loss\")\n",
    "plt.xlabel(\"Epoch\")\n",
    "plt.ylabel(\"Loss\")\n",
    "plt.legend()\n",
    "plt.title(\"Training & Validation Loss\")\n",
    "plt.show()"
   ]
  }
 ],
 "metadata": {
  "kernelspec": {
   "display_name": "deep-learning-framework",
   "language": "python",
   "name": "python3"
  },
  "language_info": {
   "codemirror_mode": {
    "name": "ipython",
    "version": 3
   },
   "file_extension": ".py",
   "mimetype": "text/x-python",
   "name": "python",
   "nbconvert_exporter": "python",
   "pygments_lexer": "ipython3",
   "version": "3.10.9"
  },
  "orig_nbformat": 4,
  "vscode": {
   "interpreter": {
    "hash": "4ff79fb053fb88e18eab83b8116863beb7409b92540c23c781114755009620a7"
   }
  }
 },
 "nbformat": 4,
 "nbformat_minor": 2
}
