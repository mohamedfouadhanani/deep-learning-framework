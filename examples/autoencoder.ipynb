{
 "cells": [
  {
   "cell_type": "code",
   "execution_count": 1,
   "metadata": {},
   "outputs": [],
   "source": [
    "import os\n",
    "import sys\n",
    "sys.path.append(os.path.dirname(os.getcwd()))"
   ]
  },
  {
   "cell_type": "code",
   "execution_count": 2,
   "metadata": {},
   "outputs": [],
   "source": [
    "import numpy as np\n",
    "from matplotlib import pyplot as plt\n",
    "\n",
    "from dl import Model\n",
    "from dl import Dense\n",
    "from dl.activations import TanH, ReLU, LeakyReLU\n",
    "from dl.losses import MAE, MSE\n",
    "from dl.regularization import Dropout\n",
    "from dl.optimizers import AdaptiveMomentEstimation\n",
    "from dl import BatchNormalization"
   ]
  },
  {
   "cell_type": "code",
   "execution_count": 3,
   "metadata": {},
   "outputs": [],
   "source": [
    "m, n = 2000, 10\n",
    "inputs = np.random.randn(m, n)\n",
    "outputs = 2 * inputs + 1"
   ]
  },
  {
   "cell_type": "code",
   "execution_count": 4,
   "metadata": {},
   "outputs": [
    {
     "name": "stdout",
     "output_type": "stream",
     "text": [
      "(1400, 10) (1400, 10)\n",
      "(300, 10) (300, 10)\n",
      "(300, 10) (300, 10)\n"
     ]
    }
   ],
   "source": [
    "# train, val, test split\n",
    "def train_test_split(inputs, outputs, pourcentage):\n",
    "    m, _ = inputs.shape\n",
    "    permutation = np.random.permutation(m)\n",
    "    m_train = np.ceil(m * pourcentage).astype(int)\n",
    "\n",
    "    inputs_train = inputs[permutation[:m_train]]\n",
    "    inputs_test = inputs[permutation[m_train:]]\n",
    "\n",
    "    outputs_train = outputs[permutation[:m_train]]\n",
    "    outputs_test = outputs[permutation[m_train:]]\n",
    "\n",
    "    return inputs_train, outputs_train, inputs_test, outputs_test\n",
    "\n",
    "inputs_train, outputs_train, inputs_test, outputs_test = train_test_split(inputs, outputs, pourcentage=0.7)\n",
    "inputs_val, outputs_val, inputs_test, outputs_test = train_test_split(inputs_test, outputs_test, pourcentage=0.5)\n",
    "\n",
    "print(inputs_train.shape, outputs_train.shape)\n",
    "print(inputs_test.shape, outputs_test.shape)\n",
    "print(inputs_val.shape, outputs_val.shape)"
   ]
  },
  {
   "cell_type": "code",
   "execution_count": 5,
   "metadata": {},
   "outputs": [],
   "source": [
    "model = Model([\n",
    "    Dense(n, 32),\n",
    "    ReLU(),\n",
    "    Dropout(keep_prob=0.9),\n",
    "    BatchNormalization(),\n",
    "    Dense(32, 5),\n",
    "    ReLU(),\n",
    "    Dropout(keep_prob=0.7),\n",
    "    BatchNormalization(),\n",
    "    Dense(5, 32),\n",
    "    LeakyReLU(0.3),\n",
    "    Dropout(keep_prob=0.8),\n",
    "    BatchNormalization(),\n",
    "    Dense(32, n)\n",
    "])"
   ]
  },
  {
   "cell_type": "code",
   "execution_count": 6,
   "metadata": {},
   "outputs": [],
   "source": [
    "n_epochs = 100\n",
    "learning_rate = 0.1\n",
    "batch_size = 128\n",
    "beta1 = 0.9\n",
    "beta2 = 0.99"
   ]
  },
  {
   "cell_type": "code",
   "execution_count": 7,
   "metadata": {},
   "outputs": [],
   "source": [
    "loss = MSE()\n",
    "# loss = MAE()"
   ]
  },
  {
   "cell_type": "code",
   "execution_count": 8,
   "metadata": {},
   "outputs": [],
   "source": [
    "optimizer = AdaptiveMomentEstimation(learning_rate, batch_size, beta1, beta2)"
   ]
  },
  {
   "cell_type": "code",
   "execution_count": 9,
   "metadata": {},
   "outputs": [],
   "source": [
    "model.compile(loss, optimizer)"
   ]
  },
  {
   "cell_type": "code",
   "execution_count": 10,
   "metadata": {},
   "outputs": [
    {
     "name": "stdout",
     "output_type": "stream",
     "text": [
      "[1/100]: Training Loss: 41.997653368752765 , Validation Loss: 41.86561570996147\n",
      "[2/100]: Training Loss: 48.270633471304215 , Validation Loss: 46.71906277802726\n",
      "[3/100]: Training Loss: 20.074013416536268 , Validation Loss: 19.865178260515393\n",
      "[4/100]: Training Loss: 20.73079299316372 , Validation Loss: 20.841438478210645\n",
      "[5/100]: Training Loss: 19.10553265798278 , Validation Loss: 19.056988662366404\n",
      "[6/100]: Training Loss: 19.291083199264214 , Validation Loss: 19.147467582860486\n",
      "[7/100]: Training Loss: 19.25845672705103 , Validation Loss: 19.126020004357446\n",
      "[8/100]: Training Loss: 18.82034715401454 , Validation Loss: 18.734278428001367\n",
      "[9/100]: Training Loss: 18.693643489965215 , Validation Loss: 18.604834941251475\n",
      "[10/100]: Training Loss: 18.868938060386444 , Validation Loss: 18.738947271959525\n",
      "[11/100]: Training Loss: 18.455081868082605 , Validation Loss: 18.367228640463917\n",
      "[12/100]: Training Loss: 18.320291942079507 , Validation Loss: 18.252975163947585\n",
      "[13/100]: Training Loss: 18.36865534199501 , Validation Loss: 18.291676012328427\n",
      "[14/100]: Training Loss: 18.0563192337898 , Validation Loss: 18.0080490628898\n",
      "[15/100]: Training Loss: 17.89006398001203 , Validation Loss: 17.848198653029304\n",
      "[16/100]: Training Loss: 17.81697959672701 , Validation Loss: 17.814446399836303\n",
      "[17/100]: Training Loss: 17.285593626770954 , Validation Loss: 17.236240021143846\n",
      "[18/100]: Training Loss: 17.078125653851245 , Validation Loss: 17.12625297791649\n",
      "[19/100]: Training Loss: 16.537835835237306 , Validation Loss: 16.617229772865716\n",
      "[20/100]: Training Loss: 16.693130965925906 , Validation Loss: 16.759092445427903\n",
      "[21/100]: Training Loss: 15.97618611732703 , Validation Loss: 16.163810514176422\n",
      "[22/100]: Training Loss: 16.213052598037542 , Validation Loss: 16.401266177545033\n",
      "[23/100]: Training Loss: 15.275804053022572 , Validation Loss: 15.447738719451381\n",
      "[24/100]: Training Loss: 15.691583683759488 , Validation Loss: 15.906992178745964\n",
      "[25/100]: Training Loss: 14.828462982413683 , Validation Loss: 15.004159033154265\n",
      "[26/100]: Training Loss: 15.400054028612363 , Validation Loss: 15.550183200519417\n",
      "[27/100]: Training Loss: 15.059259189457729 , Validation Loss: 15.273830058966615\n",
      "[28/100]: Training Loss: 14.585241193733138 , Validation Loss: 14.806702056063639\n",
      "[29/100]: Training Loss: 14.385713644335711 , Validation Loss: 14.635994768973681\n",
      "[30/100]: Training Loss: 14.736093003465937 , Validation Loss: 14.945442354880093\n",
      "[31/100]: Training Loss: 14.137523559480968 , Validation Loss: 14.409771360653464\n",
      "[32/100]: Training Loss: 14.688283628188994 , Validation Loss: 14.918885413938673\n",
      "[33/100]: Training Loss: 13.952557052592201 , Validation Loss: 14.145020484092392\n",
      "[34/100]: Training Loss: 14.312353963266219 , Validation Loss: 14.637182828148198\n",
      "[35/100]: Training Loss: 14.17500194865455 , Validation Loss: 14.460608638156193\n",
      "[36/100]: Training Loss: 14.337697556998002 , Validation Loss: 14.606054765002797\n",
      "[37/100]: Training Loss: 14.61063605639581 , Validation Loss: 14.876622164388412\n",
      "[38/100]: Training Loss: 14.092110159543674 , Validation Loss: 14.390929053882912\n",
      "[39/100]: Training Loss: 13.885829163461905 , Validation Loss: 14.251147963364499\n",
      "[40/100]: Training Loss: 13.837323883872315 , Validation Loss: 14.220705845594376\n",
      "[41/100]: Training Loss: 13.86156847132152 , Validation Loss: 14.174543445793027\n",
      "[42/100]: Training Loss: 14.017848507760728 , Validation Loss: 14.32771643087748\n",
      "[43/100]: Training Loss: 13.42041285234942 , Validation Loss: 13.789212737174612\n",
      "[44/100]: Training Loss: 13.584282594373445 , Validation Loss: 14.023581795286045\n",
      "[45/100]: Training Loss: 13.40967752602749 , Validation Loss: 13.782396371781534\n",
      "[46/100]: Training Loss: 13.664967183609473 , Validation Loss: 13.98453452350742\n",
      "[47/100]: Training Loss: 13.59757096064159 , Validation Loss: 13.88858405900835\n",
      "[48/100]: Training Loss: 13.828627519789038 , Validation Loss: 14.10966577751174\n",
      "[49/100]: Training Loss: 13.327705708869715 , Validation Loss: 13.679833199838232\n",
      "[50/100]: Training Loss: 13.234269832046621 , Validation Loss: 13.60022774676415\n",
      "[51/100]: Training Loss: 13.535869616512354 , Validation Loss: 13.936850790120898\n",
      "[52/100]: Training Loss: 13.201010626394195 , Validation Loss: 13.526952891882653\n",
      "[53/100]: Training Loss: 13.519348738229674 , Validation Loss: 13.78925090492489\n",
      "[54/100]: Training Loss: 13.364809733498626 , Validation Loss: 13.67767904389877\n",
      "[55/100]: Training Loss: 13.929384845481122 , Validation Loss: 14.189079954747097\n",
      "[56/100]: Training Loss: 13.292846856180892 , Validation Loss: 13.525015580072834\n",
      "[57/100]: Training Loss: 13.993530723118905 , Validation Loss: 14.233703081772962\n",
      "[58/100]: Training Loss: 13.515912896928771 , Validation Loss: 13.778217424179802\n",
      "[59/100]: Training Loss: 13.112963822062596 , Validation Loss: 13.411202752645686\n",
      "[60/100]: Training Loss: 13.523622379619251 , Validation Loss: 13.755700371459398\n",
      "[61/100]: Training Loss: 13.052840908893252 , Validation Loss: 13.418352066973124\n",
      "[62/100]: Training Loss: 12.937894063821002 , Validation Loss: 13.292665710429125\n",
      "[63/100]: Training Loss: 13.252010920415723 , Validation Loss: 13.524128486549511\n",
      "[64/100]: Training Loss: 13.371980527939964 , Validation Loss: 13.630645597184063\n",
      "[65/100]: Training Loss: 13.44144545645491 , Validation Loss: 13.700570011429136\n",
      "[66/100]: Training Loss: 13.358765485137505 , Validation Loss: 13.681303991017545\n",
      "[67/100]: Training Loss: 13.319113266945658 , Validation Loss: 13.609679510926744\n",
      "[68/100]: Training Loss: 13.441229566154153 , Validation Loss: 13.779367642581034\n",
      "[69/100]: Training Loss: 13.397308869154575 , Validation Loss: 13.700842212111993\n",
      "[70/100]: Training Loss: 13.247727098457114 , Validation Loss: 13.594665579827744\n",
      "[71/100]: Training Loss: 13.03134699283979 , Validation Loss: 13.3107689600943\n",
      "[72/100]: Training Loss: 13.187800942768018 , Validation Loss: 13.55431740717575\n",
      "[73/100]: Training Loss: 12.926002994716494 , Validation Loss: 13.218245988174118\n",
      "[74/100]: Training Loss: 13.43378220648656 , Validation Loss: 13.868051060849611\n",
      "[75/100]: Training Loss: 13.356621474310527 , Validation Loss: 13.70624014764037\n",
      "[76/100]: Training Loss: 13.592957436346694 , Validation Loss: 13.99650150909219\n",
      "[77/100]: Training Loss: 13.537440508538952 , Validation Loss: 13.907850775169845\n",
      "[78/100]: Training Loss: 13.10417884874409 , Validation Loss: 13.56423751437322\n",
      "[79/100]: Training Loss: 13.325805887601634 , Validation Loss: 13.73723426690883\n",
      "[80/100]: Training Loss: 13.268744012766916 , Validation Loss: 13.565267234143679\n",
      "[81/100]: Training Loss: 13.438234835140896 , Validation Loss: 13.70817457727903\n",
      "[82/100]: Training Loss: 13.539622349018588 , Validation Loss: 13.902604466672583\n",
      "[83/100]: Training Loss: 13.44282307795238 , Validation Loss: 13.72807558572246\n",
      "[84/100]: Training Loss: 14.295690903613766 , Validation Loss: 14.63982525844273\n",
      "[85/100]: Training Loss: 13.44618293453746 , Validation Loss: 13.677318798026114\n",
      "[86/100]: Training Loss: 14.226147070629214 , Validation Loss: 14.52960534217774\n",
      "[87/100]: Training Loss: 13.400720248361441 , Validation Loss: 13.785180961961593\n",
      "[88/100]: Training Loss: 13.551755280156012 , Validation Loss: 13.779787943613107\n",
      "[89/100]: Training Loss: 13.691894992521734 , Validation Loss: 13.996892169187298\n",
      "[90/100]: Training Loss: 13.802476488660604 , Validation Loss: 14.046664335937912\n",
      "[91/100]: Training Loss: 13.884310630745464 , Validation Loss: 14.134804253561121\n",
      "[92/100]: Training Loss: 13.570768197377319 , Validation Loss: 13.817598481395443\n",
      "[93/100]: Training Loss: 13.845273358936714 , Validation Loss: 14.054339639635618\n",
      "[94/100]: Training Loss: 13.40406278194863 , Validation Loss: 13.650112375092077\n",
      "[95/100]: Training Loss: 13.727669497771377 , Validation Loss: 14.032416156335882\n",
      "[96/100]: Training Loss: 13.937174716856697 , Validation Loss: 14.25634554378323\n",
      "[97/100]: Training Loss: 13.829769903445337 , Validation Loss: 14.144018040063532\n",
      "[98/100]: Training Loss: 13.36622114944394 , Validation Loss: 13.61597757792073\n",
      "[99/100]: Training Loss: 14.335194010745779 , Validation Loss: 14.679639671725763\n",
      "[100/100]: Training Loss: 13.366500773569834 , Validation Loss: 13.831165715724865\n"
     ]
    }
   ],
   "source": [
    "history = model.optimize(inputs_train, outputs_train, n_epochs, verbose=True, inputs_val=inputs_val, outputs_val=outputs_val)"
   ]
  },
  {
   "cell_type": "code",
   "execution_count": 12,
   "metadata": {},
   "outputs": [
    {
     "data": {
      "image/png": "[encoded data removed]",
      "text/plain": [
       "<Figure size 640x480 with 1 Axes>"
      ]
     },
     "metadata": {},
     "output_type": "display_data"
    }
   ],
   "source": [
    "X = list(range(len(history[\"train_losses\"])))\n",
    "plt.plot(X, history[\"train_losses\"], \"b\", label=\"Training Loss\")\n",
    "plt.plot(X, history[\"val_losses\"], \"r\", label=\"Training Loss\")\n",
    "plt.xlabel(\"Epoch\")\n",
    "plt.ylabel(\"Loss\")\n",
    "plt.legend()\n",
    "plt.title(\"Training & Validation Loss\")\n",
    "plt.show()"
   ]
  }
 ],
 "metadata": {
  "kernelspec": {
   "display_name": "deep-learning-framework",
   "language": "python",
   "name": "python3"
  },
  "language_info": {
   "codemirror_mode": {
    "name": "ipython",
    "version": 3
   },
   "file_extension": ".py",
   "mimetype": "text/x-python",
   "name": "python",
   "nbconvert_exporter": "python",
   "pygments_lexer": "ipython3",
   "version": "3.10.9"
  },
  "orig_nbformat": 4,
  "vscode": {
   "interpreter": {
    "hash": "4ff79fb053fb88e18eab83b8116863beb7409b92540c23c781114755009620a7"
   }
  }
 },
 "nbformat": 4,
 "nbformat_minor": 2
}
