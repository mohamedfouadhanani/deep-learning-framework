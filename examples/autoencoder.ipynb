{
 "cells": [
  {
   "cell_type": "code",
   "execution_count": 1,
   "metadata": {},
   "outputs": [],
   "source": [
    "import os\n",
    "import sys\n",
    "sys.path.append(os.path.dirname(os.getcwd()))"
   ]
  },
  {
   "cell_type": "code",
   "execution_count": 2,
   "metadata": {},
   "outputs": [],
   "source": [
    "import numpy as np\n",
    "from matplotlib import pyplot as plt\n",
    "\n",
    "from dl import Model\n",
    "from dl import Dense\n",
    "from dl.activations import TanH, ReLU, LeakyReLU\n",
    "from dl.losses import MAE, MSE\n",
    "from dl.regularization import Dropout\n",
    "from dl.optimizers import AdaptiveMomentEstimation\n",
    "from dl import BatchNormalization"
   ]
  },
  {
   "cell_type": "code",
   "execution_count": 3,
   "metadata": {},
   "outputs": [],
   "source": [
    "m, n = 2000, 10\n",
    "inputs = np.random.randn(m, n)\n",
    "outputs = 2 * inputs + 1"
   ]
  },
  {
   "cell_type": "code",
   "execution_count": 4,
   "metadata": {},
   "outputs": [
    {
     "name": "stdout",
     "output_type": "stream",
     "text": [
      "(1400, 10) (1400, 10)\n",
      "(300, 10) (300, 10)\n",
      "(300, 10) (300, 10)\n"
     ]
    }
   ],
   "source": [
    "# train, val, test split\n",
    "def train_test_split(inputs, outputs, pourcentage):\n",
    "    m, _ = inputs.shape\n",
    "    permutation = np.random.permutation(m)\n",
    "    m_train = np.ceil(m * pourcentage).astype(int)\n",
    "\n",
    "    inputs_train = inputs[permutation[:m_train]]\n",
    "    inputs_test = inputs[permutation[m_train:]]\n",
    "\n",
    "    outputs_train = outputs[permutation[:m_train]]\n",
    "    outputs_test = outputs[permutation[m_train:]]\n",
    "\n",
    "    return inputs_train, outputs_train, inputs_test, outputs_test\n",
    "\n",
    "inputs_train, outputs_train, inputs_test, outputs_test = train_test_split(inputs, outputs, pourcentage=0.7)\n",
    "inputs_val, outputs_val, inputs_test, outputs_test = train_test_split(inputs_test, outputs_test, pourcentage=0.5)\n",
    "\n",
    "print(inputs_train.shape, outputs_train.shape)\n",
    "print(inputs_test.shape, outputs_test.shape)\n",
    "print(inputs_val.shape, outputs_val.shape)"
   ]
  },
  {
   "cell_type": "code",
   "execution_count": 5,
   "metadata": {},
   "outputs": [],
   "source": [
    "model = Model([\n",
    "    Dense(n, 32),\n",
    "    BatchNormalization(),\n",
    "    ReLU(),\n",
    "    Dropout(keep_prob=0.9),\n",
    "    Dense(32, 5),\n",
    "    BatchNormalization(),\n",
    "    ReLU(),\n",
    "    Dropout(keep_prob=0.7),\n",
    "    Dense(5, 32),\n",
    "    BatchNormalization(),\n",
    "    LeakyReLU(0.3),\n",
    "    Dropout(keep_prob=0.8),\n",
    "    Dense(32, n)\n",
    "])"
   ]
  },
  {
   "cell_type": "code",
   "execution_count": 6,
   "metadata": {},
   "outputs": [],
   "source": [
    "n_epochs = 100\n",
    "learning_rate = 0.1\n",
    "batch_size = 128\n",
    "beta1 = 0.9\n",
    "beta2 = 0.99"
   ]
  },
  {
   "cell_type": "code",
   "execution_count": 7,
   "metadata": {},
   "outputs": [],
   "source": [
    "loss = MSE()\n",
    "# loss = MAE()"
   ]
  },
  {
   "cell_type": "code",
   "execution_count": 8,
   "metadata": {},
   "outputs": [],
   "source": [
    "optimizer = AdaptiveMomentEstimation(learning_rate, beta1, beta2)"
   ]
  },
  {
   "cell_type": "code",
   "execution_count": 9,
   "metadata": {},
   "outputs": [],
   "source": [
    "model.compile(loss, optimizer)"
   ]
  },
  {
   "cell_type": "code",
   "execution_count": 12,
   "metadata": {},
   "outputs": [
    {
     "name": "stdout",
     "output_type": "stream",
     "text": [
      "[1/100]: Training Loss: 12.911628734823301 , Validation Loss: 13.581327355100354\n",
      "[2/100]: Training Loss: 13.04440606188539 , Validation Loss: 13.670323064340648\n",
      "[3/100]: Training Loss: 12.85588904381914 , Validation Loss: 13.507923327958016\n",
      "[4/100]: Training Loss: 12.91012020772598 , Validation Loss: 13.61581762980594\n",
      "[5/100]: Training Loss: 12.853737229993856 , Validation Loss: 13.577947941695196\n",
      "[6/100]: Training Loss: 12.767173391958744 , Validation Loss: 13.425675369229848\n",
      "[7/100]: Training Loss: 13.19702052493552 , Validation Loss: 13.834749607693496\n",
      "[8/100]: Training Loss: 12.755676128327083 , Validation Loss: 13.456327504417292\n",
      "[9/100]: Training Loss: 12.780416726587077 , Validation Loss: 13.494182489419712\n",
      "[10/100]: Training Loss: 13.12842967422135 , Validation Loss: 13.863869496790324\n",
      "[11/100]: Training Loss: 13.214727012749806 , Validation Loss: 13.832529414590669\n",
      "[12/100]: Training Loss: 12.514743010199247 , Validation Loss: 13.185319836862815\n",
      "[13/100]: Training Loss: 13.367736467316464 , Validation Loss: 13.971309668992884\n",
      "[14/100]: Training Loss: 12.754917456539596 , Validation Loss: 13.42618225700387\n",
      "[15/100]: Training Loss: 12.998805276410577 , Validation Loss: 13.729327755764867\n",
      "[16/100]: Training Loss: 12.76505622674355 , Validation Loss: 13.420994816196552\n",
      "[17/100]: Training Loss: 12.748595440078379 , Validation Loss: 13.462411653349658\n",
      "[18/100]: Training Loss: 12.893294107112165 , Validation Loss: 13.57152936902592\n",
      "[19/100]: Training Loss: 12.840106470611088 , Validation Loss: 13.47654079087781\n",
      "[20/100]: Training Loss: 12.953847818458037 , Validation Loss: 13.630003109546598\n",
      "[21/100]: Training Loss: 12.845460438504896 , Validation Loss: 13.49371957411176\n",
      "[22/100]: Training Loss: 12.914197512284305 , Validation Loss: 13.54913573740749\n",
      "[23/100]: Training Loss: 12.41927151687306 , Validation Loss: 13.079402840143834\n",
      "[24/100]: Training Loss: 12.942981458650936 , Validation Loss: 13.569020193906448\n",
      "[25/100]: Training Loss: 12.894108817059331 , Validation Loss: 13.60008490264943\n",
      "[26/100]: Training Loss: 12.908479181973663 , Validation Loss: 13.643859100218721\n",
      "[27/100]: Training Loss: 12.739646293123036 , Validation Loss: 13.457185663147868\n",
      "[28/100]: Training Loss: 13.105839459559684 , Validation Loss: 13.90951715356908\n",
      "[29/100]: Training Loss: 13.077069883962112 , Validation Loss: 13.785396990670803\n",
      "[30/100]: Training Loss: 13.196077385233242 , Validation Loss: 13.86171737373544\n",
      "[31/100]: Training Loss: 12.723911705992876 , Validation Loss: 13.463059738647951\n",
      "[32/100]: Training Loss: 12.579943105313978 , Validation Loss: 13.265643761140883\n",
      "[33/100]: Training Loss: 12.6854743302432 , Validation Loss: 13.427065264421898\n",
      "[34/100]: Training Loss: 12.631647967144472 , Validation Loss: 13.336888961137078\n",
      "[35/100]: Training Loss: 12.835507456817288 , Validation Loss: 13.600996244952352\n",
      "[36/100]: Training Loss: 12.973752323971473 , Validation Loss: 13.622348272996812\n",
      "[37/100]: Training Loss: 13.257244790315022 , Validation Loss: 13.875048516174108\n",
      "[38/100]: Training Loss: 12.851576186023259 , Validation Loss: 13.598446221854486\n",
      "[39/100]: Training Loss: 12.74132810419692 , Validation Loss: 13.480447041672926\n",
      "[40/100]: Training Loss: 12.429280701922544 , Validation Loss: 13.249835851128474\n",
      "[41/100]: Training Loss: 12.417497478580845 , Validation Loss: 13.100049908270021\n",
      "[42/100]: Training Loss: 12.796901695286069 , Validation Loss: 13.513128595864387\n",
      "[43/100]: Training Loss: 12.745439706042852 , Validation Loss: 13.429475149196874\n",
      "[44/100]: Training Loss: 12.769559602630855 , Validation Loss: 13.46042159182341\n",
      "[45/100]: Training Loss: 12.658447090317363 , Validation Loss: 13.250924188534736\n",
      "[46/100]: Training Loss: 12.638340938146152 , Validation Loss: 13.339457595978425\n",
      "[47/100]: Training Loss: 12.732039360765972 , Validation Loss: 13.283327682322568\n",
      "[48/100]: Training Loss: 12.783676016065375 , Validation Loss: 13.504695736429772\n",
      "[49/100]: Training Loss: 12.504538128181418 , Validation Loss: 13.178031642922045\n",
      "[50/100]: Training Loss: 12.863259366747188 , Validation Loss: 13.56563942204668\n",
      "[51/100]: Training Loss: 12.680780072858806 , Validation Loss: 13.400379834539384\n",
      "[52/100]: Training Loss: 12.771774665996396 , Validation Loss: 13.434694990414584\n",
      "[53/100]: Training Loss: 13.190750271489081 , Validation Loss: 13.909406487444993\n",
      "[54/100]: Training Loss: 12.632357718414575 , Validation Loss: 13.404821896496074\n",
      "[55/100]: Training Loss: 12.825108587151838 , Validation Loss: 13.592921012757484\n",
      "[56/100]: Training Loss: 12.837056799285303 , Validation Loss: 13.628196492478148\n",
      "[57/100]: Training Loss: 12.965365792828187 , Validation Loss: 13.675760490672292\n",
      "[58/100]: Training Loss: 12.419048717045067 , Validation Loss: 13.25314806386265\n",
      "[59/100]: Training Loss: 12.639978404964996 , Validation Loss: 13.3875088143903\n",
      "[60/100]: Training Loss: 12.779157747598742 , Validation Loss: 13.562518249505732\n",
      "[61/100]: Training Loss: 12.814685427451991 , Validation Loss: 13.58028989038238\n",
      "[62/100]: Training Loss: 12.291933366465011 , Validation Loss: 13.108789262969664\n",
      "[63/100]: Training Loss: 12.837941523132278 , Validation Loss: 13.606276940953506\n",
      "[64/100]: Training Loss: 12.797005706547232 , Validation Loss: 13.534520653887336\n",
      "[65/100]: Training Loss: 12.641605190166933 , Validation Loss: 13.402948328902315\n",
      "[66/100]: Training Loss: 12.418466755060347 , Validation Loss: 13.205799957549175\n",
      "[67/100]: Training Loss: 12.86299793970378 , Validation Loss: 13.566274403373365\n",
      "[68/100]: Training Loss: 12.90977059771364 , Validation Loss: 13.615527645677957\n",
      "[69/100]: Training Loss: 12.709087350845488 , Validation Loss: 13.3895851147007\n",
      "[70/100]: Training Loss: 12.33409174927332 , Validation Loss: 13.144986229445571\n",
      "[71/100]: Training Loss: 12.31589755482917 , Validation Loss: 13.052864652066717\n",
      "[72/100]: Training Loss: 12.495519059587506 , Validation Loss: 13.310066241946078\n",
      "[73/100]: Training Loss: 12.614310051266148 , Validation Loss: 13.325504980034221\n",
      "[74/100]: Training Loss: 12.615270917127033 , Validation Loss: 13.429593378312562\n",
      "[75/100]: Training Loss: 12.514979600090228 , Validation Loss: 13.214486023191123\n",
      "[76/100]: Training Loss: 12.579849051297915 , Validation Loss: 13.303165446213765\n",
      "[77/100]: Training Loss: 12.615707423891847 , Validation Loss: 13.334053570234676\n",
      "[78/100]: Training Loss: 12.846080110974482 , Validation Loss: 13.580371723153426\n",
      "[79/100]: Training Loss: 12.396486715599131 , Validation Loss: 13.105348723235661\n",
      "[80/100]: Training Loss: 12.6439335042095 , Validation Loss: 13.418162419194868\n",
      "[81/100]: Training Loss: 12.19207454498745 , Validation Loss: 13.013778730182748\n",
      "[82/100]: Training Loss: 12.806529402364678 , Validation Loss: 13.591280626885045\n",
      "[83/100]: Training Loss: 12.607530628407503 , Validation Loss: 13.376917890776163\n",
      "[84/100]: Training Loss: 12.423870836067536 , Validation Loss: 13.212266867470548\n",
      "[85/100]: Training Loss: 12.567852096304986 , Validation Loss: 13.261050287281329\n",
      "[86/100]: Training Loss: 12.780977298981634 , Validation Loss: 13.540318015568042\n",
      "[87/100]: Training Loss: 12.6519086319177 , Validation Loss: 13.283623384806193\n",
      "[88/100]: Training Loss: 12.446234219252087 , Validation Loss: 13.156258662942655\n",
      "[89/100]: Training Loss: 12.516685426285429 , Validation Loss: 13.201841134696666\n",
      "[90/100]: Training Loss: 12.686394705405187 , Validation Loss: 13.402886884002921\n",
      "[91/100]: Training Loss: 12.7492663382896 , Validation Loss: 13.422560579682735\n",
      "[92/100]: Training Loss: 12.347986421558746 , Validation Loss: 13.059296586812298\n",
      "[93/100]: Training Loss: 12.360551254666097 , Validation Loss: 13.097398581888172\n",
      "[94/100]: Training Loss: 12.537154658112174 , Validation Loss: 13.259777217432887\n",
      "[95/100]: Training Loss: 12.963111402897518 , Validation Loss: 13.620271491206541\n",
      "[96/100]: Training Loss: 12.911827567528201 , Validation Loss: 13.661485999195966\n",
      "[97/100]: Training Loss: 12.608833385869808 , Validation Loss: 13.331295728968179\n",
      "[98/100]: Training Loss: 12.758003446303059 , Validation Loss: 13.558056539815427\n",
      "[99/100]: Training Loss: 12.812114626502325 , Validation Loss: 13.510985284891495\n",
      "[100/100]: Training Loss: 12.517193746933998 , Validation Loss: 13.25050319337329\n"
     ]
    }
   ],
   "source": [
    "history = model.optimize(inputs_train, outputs_train, n_epochs, batch_size, verbose=True, inputs_val=inputs_val, outputs_val=outputs_val)"
   ]
  },
  {
   "cell_type": "code",
   "execution_count": 13,
   "metadata": {},
   "outputs": [
    {
     "data": {
      "image/png": "[encoded data removed]",
      "text/plain": [
       "<Figure size 640x480 with 1 Axes>"
      ]
     },
     "metadata": {},
     "output_type": "display_data"
    }
   ],
   "source": [
    "X = list(range(len(history[\"train_losses\"])))\n",
    "plt.plot(X, history[\"train_losses\"], \"b\", label=\"Training Loss\")\n",
    "plt.plot(X, history[\"val_losses\"], \"r\", label=\"Validation Loss\")\n",
    "plt.xlabel(\"Epoch\")\n",
    "plt.ylabel(\"Loss\")\n",
    "plt.legend()\n",
    "plt.title(\"Training & Validation Loss\")\n",
    "plt.show()"
   ]
  }
 ],
 "metadata": {
  "kernelspec": {
   "display_name": "deep-learning-framework",
   "language": "python",
   "name": "python3"
  },
  "language_info": {
   "codemirror_mode": {
    "name": "ipython",
    "version": 3
   },
   "file_extension": ".py",
   "mimetype": "text/x-python",
   "name": "python",
   "nbconvert_exporter": "python",
   "pygments_lexer": "ipython3",
   "version": "3.10.9"
  },
  "orig_nbformat": 4,
  "vscode": {
   "interpreter": {
    "hash": "4ff79fb053fb88e18eab83b8116863beb7409b92540c23c781114755009620a7"
   }
  }
 },
 "nbformat": 4,
 "nbformat_minor": 2
}
