{
 "cells": [
  {
   "cell_type": "code",
   "execution_count": 26,
   "metadata": {},
   "outputs": [],
   "source": [
    "import os\n",
    "import sys\n",
    "sys.path.append(os.path.dirname(os.getcwd()))"
   ]
  },
  {
   "cell_type": "code",
   "execution_count": 27,
   "metadata": {},
   "outputs": [],
   "source": [
    "import numpy as np\n",
    "from matplotlib import pyplot as plt\n",
    "\n",
    "from dlf.sequential import Sequential\n",
    "from dlf.layers.dense import Dense\n",
    "from dlf.activation_functions.tanh import TanH\n",
    "from dlf.activation_functions.relu import ReLU\n",
    "from dlf.activation_functions.sigmoid import Sigmoid\n",
    "from dlf.losses.bce import BinaryCrossEntropy\n",
    "from dlf.regularization.dropout import Dropout\n",
    "from dlf.optimizers.mgd import MomentumGradientDescent\n",
    "from dlf.optimizers.rmsprop import RMSProp\n",
    "from dlf.optimizers.adam import AdaptiveMomentEstimation\n",
    "from dlf.trainer import Trainer\n",
    "from dlf.initializers.he_normal import HeNormal\n",
    "from dlf.schedulers.exponential import ExponentialScheduler\n",
    "from dlf.schedulers.step import StepScheduler\n",
    "\n",
    "from dlf.utils.dataset import train_test_split"
   ]
  },
  {
   "cell_type": "code",
   "execution_count": 28,
   "metadata": {},
   "outputs": [],
   "source": [
    "m, n = 2000, 3\n",
    "inputs = np.random.randn(m, n)\n",
    "labels = (inputs.sum(axis=1, keepdims=True) > 0).astype(int)"
   ]
  },
  {
   "cell_type": "code",
   "execution_count": 29,
   "metadata": {},
   "outputs": [],
   "source": [
    "training_inputs, training_labels, testing_inputs, testing_labels = train_test_split(inputs, labels, 0.7)\n",
    "testing_inputs, testing_labels, validation_inputs, validation_labels = train_test_split(testing_inputs, testing_labels, 0.5)"
   ]
  },
  {
   "cell_type": "code",
   "execution_count": 30,
   "metadata": {},
   "outputs": [
    {
     "name": "stdout",
     "output_type": "stream",
     "text": [
      "(1400, 3) (1400, 1)\n",
      "(300, 3) (300, 1)\n",
      "(300, 3) (300, 1)\n"
     ]
    }
   ],
   "source": [
    "print(training_inputs.shape, training_labels.shape)\n",
    "print(validation_inputs.shape, validation_labels.shape)\n",
    "print(testing_inputs.shape, testing_labels.shape)"
   ]
  },
  {
   "cell_type": "code",
   "execution_count": 31,
   "metadata": {},
   "outputs": [],
   "source": [
    "training_set = (training_inputs, training_labels)\n",
    "validation_set = (validation_inputs, validation_labels)\n",
    "testing_set = (testing_inputs, testing_labels)"
   ]
  },
  {
   "cell_type": "code",
   "execution_count": 32,
   "metadata": {},
   "outputs": [],
   "source": [
    "model = Sequential([\n",
    "    Dense(3, 8, initializer=HeNormal()),\n",
    "    TanH(),\n",
    "    Dense(8, 16),\n",
    "    ReLU(),\n",
    "    Dropout(keep_prob=0.8),\n",
    "    Dense(16, 1),\n",
    "    Sigmoid()\n",
    "])"
   ]
  },
  {
   "cell_type": "code",
   "execution_count": 33,
   "metadata": {},
   "outputs": [],
   "source": [
    "loss = BinaryCrossEntropy()"
   ]
  },
  {
   "cell_type": "code",
   "execution_count": 34,
   "metadata": {},
   "outputs": [],
   "source": [
    "n_epochs = 100\n",
    "learning_rate = 0.001\n",
    "batch_size = 128\n",
    "beta = 0.9\n",
    "decay_rate = 0.9\n",
    "step_size = 10"
   ]
  },
  {
   "cell_type": "code",
   "execution_count": 35,
   "metadata": {},
   "outputs": [],
   "source": [
    "# optimizer = MomentumGradientDescent(learning_rate, beta)\n",
    "# optimizer = RMSProp(learning_rate)\n",
    "optimizer = AdaptiveMomentEstimation(learning_rate)"
   ]
  },
  {
   "cell_type": "code",
   "execution_count": 36,
   "metadata": {},
   "outputs": [],
   "source": [
    "# trainer = Trainer(model, optimizer, loss, lr_scheduler=ExponentialScheduler(decay_rate))\n",
    "trainer = Trainer(model, optimizer, loss, lr_scheduler=StepScheduler(step_size, decay_rate))\n",
    "# trainer = Trainer(model, optimizer, loss)"
   ]
  },
  {
   "cell_type": "code",
   "execution_count": 37,
   "metadata": {},
   "outputs": [
    {
     "name": "stdout",
     "output_type": "stream",
     "text": [
      "[1/100]: Training Loss = 1.1632096239910343\n",
      "[2/100]: Training Loss = 0.9562587001153653\n",
      "[3/100]: Training Loss = 0.7849118018150637\n",
      "[4/100]: Training Loss = 0.6860694667028043\n",
      "[5/100]: Training Loss = 0.6314264487088697\n",
      "[6/100]: Training Loss = 0.5857600107572314\n",
      "[7/100]: Training Loss = 0.5296056582871491\n",
      "[8/100]: Training Loss = 0.5334062102624048\n",
      "[9/100]: Training Loss = 0.4950094749664142\n",
      "[10/100]: Training Loss = 0.4488946064510789\n",
      "[11/100]: Training Loss = 0.44977558081447455\n",
      "[12/100]: Training Loss = 0.42384407997377876\n",
      "[13/100]: Training Loss = 0.41705720191154133\n",
      "[14/100]: Training Loss = 0.39774523059427874\n",
      "[15/100]: Training Loss = 0.3780290639836941\n",
      "[16/100]: Training Loss = 0.34968043612473804\n",
      "[17/100]: Training Loss = 0.3276300359893742\n",
      "[18/100]: Training Loss = 0.3402796461222293\n",
      "[19/100]: Training Loss = 0.30083183773764577\n",
      "[20/100]: Training Loss = 0.30937110668573103\n",
      "[21/100]: Training Loss = 0.30806866035643554\n",
      "[22/100]: Training Loss = 0.3053708006106151\n",
      "[23/100]: Training Loss = 0.28120568293899806\n",
      "[24/100]: Training Loss = 0.27829832401661914\n",
      "[25/100]: Training Loss = 0.25893278235154077\n",
      "[26/100]: Training Loss = 0.2615243951060176\n",
      "[27/100]: Training Loss = 0.24022378247115456\n",
      "[28/100]: Training Loss = 0.2270699385754076\n",
      "[29/100]: Training Loss = 0.228495282735131\n",
      "[30/100]: Training Loss = 0.22704786723178727\n",
      "[31/100]: Training Loss = 0.219864773495268\n",
      "[32/100]: Training Loss = 0.21389586533859845\n",
      "[33/100]: Training Loss = 0.19367563218458758\n",
      "[34/100]: Training Loss = 0.1995004014175266\n",
      "[35/100]: Training Loss = 0.18979972308707446\n",
      "[36/100]: Training Loss = 0.18671077255372892\n",
      "[37/100]: Training Loss = 0.19579641140419074\n",
      "[38/100]: Training Loss = 0.1991174457302789\n",
      "[39/100]: Training Loss = 0.1878186244306112\n",
      "[40/100]: Training Loss = 0.17429444518208248\n",
      "[41/100]: Training Loss = 0.1828307706994298\n",
      "[42/100]: Training Loss = 0.17912318356444326\n",
      "[43/100]: Training Loss = 0.18174388995751758\n",
      "[44/100]: Training Loss = 0.1577311631816133\n",
      "[45/100]: Training Loss = 0.15931621059993706\n",
      "[46/100]: Training Loss = 0.1585696543215746\n",
      "[47/100]: Training Loss = 0.1579291957139359\n",
      "[48/100]: Training Loss = 0.1455975099309616\n",
      "[49/100]: Training Loss = 0.14742521877837006\n",
      "[50/100]: Training Loss = 0.15357753701869054\n",
      "[51/100]: Training Loss = 0.15259597364558333\n",
      "[52/100]: Training Loss = 0.14916885396131846\n",
      "[53/100]: Training Loss = 0.14103411686053952\n",
      "[54/100]: Training Loss = 0.14852049985892815\n",
      "[55/100]: Training Loss = 0.13976837421737598\n",
      "[56/100]: Training Loss = 0.15077670205697258\n",
      "[57/100]: Training Loss = 0.14660394773332366\n",
      "[58/100]: Training Loss = 0.1316095299876501\n",
      "[59/100]: Training Loss = 0.133420418155241\n",
      "[60/100]: Training Loss = 0.1347607380243411\n",
      "[61/100]: Training Loss = 0.12664585805965\n",
      "[62/100]: Training Loss = 0.12595792676319234\n",
      "[63/100]: Training Loss = 0.12553391674159997\n",
      "[64/100]: Training Loss = 0.13335228704944874\n",
      "[65/100]: Training Loss = 0.12163472058011986\n",
      "[66/100]: Training Loss = 0.12584297414370219\n",
      "[67/100]: Training Loss = 0.12922524129305207\n",
      "[68/100]: Training Loss = 0.11885324606915447\n",
      "[69/100]: Training Loss = 0.121731631637604\n",
      "[70/100]: Training Loss = 0.12334075893032904\n",
      "[71/100]: Training Loss = 0.1184384079380072\n",
      "[72/100]: Training Loss = 0.11975873196060216\n",
      "[73/100]: Training Loss = 0.12265600292732506\n",
      "[74/100]: Training Loss = 0.11353106676007271\n",
      "[75/100]: Training Loss = 0.12221600943064166\n",
      "[76/100]: Training Loss = 0.12068778243904814\n",
      "[77/100]: Training Loss = 0.1210901238368374\n",
      "[78/100]: Training Loss = 0.10673728045732353\n",
      "[79/100]: Training Loss = 0.12096929168041043\n",
      "[80/100]: Training Loss = 0.10493908751091259\n",
      "[81/100]: Training Loss = 0.11027998468639758\n",
      "[82/100]: Training Loss = 0.11842404701697104\n",
      "[83/100]: Training Loss = 0.11552502548876419\n",
      "[84/100]: Training Loss = 0.10428159411241637\n",
      "[85/100]: Training Loss = 0.1031974789756765\n",
      "[86/100]: Training Loss = 0.11493963196300858\n",
      "[87/100]: Training Loss = 0.10885386322609845\n",
      "[88/100]: Training Loss = 0.10331964294839471\n",
      "[89/100]: Training Loss = 0.1076062112933166\n",
      "[90/100]: Training Loss = 0.09966671348852027\n",
      "[91/100]: Training Loss = 0.10696339214362231\n",
      "[92/100]: Training Loss = 0.11320939012516287\n",
      "[93/100]: Training Loss = 0.10977220017629824\n",
      "[94/100]: Training Loss = 0.11067960610025367\n",
      "[95/100]: Training Loss = 0.10456603006089718\n",
      "[96/100]: Training Loss = 0.10994229843184476\n",
      "[97/100]: Training Loss = 0.09694484331814919\n",
      "[98/100]: Training Loss = 0.09779380408078309\n",
      "[99/100]: Training Loss = 0.10174641128478427\n",
      "[100/100]: Training Loss = 0.10301209927658493\n"
     ]
    }
   ],
   "source": [
    "history = trainer.fit(training_set, n_epochs, batch_size)"
   ]
  },
  {
   "cell_type": "code",
   "execution_count": 38,
   "metadata": {},
   "outputs": [
    {
     "data": {
      "image/png": "[encoded data removed]",
      "text/plain": [
       "<Figure size 640x480 with 1 Axes>"
      ]
     },
     "metadata": {},
     "output_type": "display_data"
    }
   ],
   "source": [
    "plt.plot(history[\"learning_rates\"])\n",
    "plt.title(\"evolution of the learning rate\")\n",
    "plt.grid()\n",
    "plt.show()"
   ]
  }
 ],
 "metadata": {
  "kernelspec": {
   "display_name": "deep-learning-framework",
   "language": "python",
   "name": "python3"
  },
  "language_info": {
   "codemirror_mode": {
    "name": "ipython",
    "version": 3
   },
   "file_extension": ".py",
   "mimetype": "text/x-python",
   "name": "python",
   "nbconvert_exporter": "python",
   "pygments_lexer": "ipython3",
   "version": "3.10.10"
  },
  "orig_nbformat": 4,
  "vscode": {
   "interpreter": {
    "hash": "4ff79fb053fb88e18eab83b8116863beb7409b92540c23c781114755009620a7"
   }
  }
 },
 "nbformat": 4,
 "nbformat_minor": 2
}
