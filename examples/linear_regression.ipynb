{
 "cells": [
  {
   "cell_type": "code",
   "execution_count": 1,
   "metadata": {},
   "outputs": [],
   "source": [
    "import os\n",
    "import sys\n",
    "sys.path.append(os.path.dirname(os.getcwd()))"
   ]
  },
  {
   "cell_type": "code",
   "execution_count": 2,
   "metadata": {},
   "outputs": [],
   "source": [
    "import numpy as np\n",
    "from matplotlib import pyplot as plt\n",
    "\n",
    "from dl import Model\n",
    "from dl import Dense\n",
    "from dl.activations import TanH, ReLU\n",
    "from dl.losses import MAE, MSE\n",
    "from dl.regularization import Dropout\n",
    "from dl.optimizers import StochasticGradientDescent\n",
    "from dl import BatchNormalization"
   ]
  },
  {
   "cell_type": "code",
   "execution_count": 3,
   "metadata": {},
   "outputs": [],
   "source": [
    "m, n = 4000, 1\n",
    "inputs = np.random.randn(m, n)\n",
    "outputs = 2 * inputs + 1"
   ]
  },
  {
   "cell_type": "code",
   "execution_count": 4,
   "metadata": {},
   "outputs": [
    {
     "name": "stdout",
     "output_type": "stream",
     "text": [
      "(2800, 1) (2800, 1)\n",
      "(600, 1) (600, 1)\n",
      "(600, 1) (600, 1)\n"
     ]
    }
   ],
   "source": [
    "# train, val, test split\n",
    "def train_test_split(inputs, outputs, pourcentage):\n",
    "    m, _ = inputs.shape\n",
    "    permutation = np.random.permutation(m)\n",
    "    m_train = np.ceil(m * pourcentage).astype(int)\n",
    "\n",
    "    inputs_train = inputs[permutation[:m_train]]\n",
    "    inputs_test = inputs[permutation[m_train:]]\n",
    "\n",
    "    outputs_train = outputs[permutation[:m_train]]\n",
    "    outputs_test = outputs[permutation[m_train:]]\n",
    "\n",
    "    return inputs_train, outputs_train, inputs_test, outputs_test\n",
    "\n",
    "inputs_train, outputs_train, inputs_test, outputs_test = train_test_split(inputs, outputs, pourcentage=0.7)\n",
    "inputs_val, outputs_val, inputs_test, outputs_test = train_test_split(inputs_test, outputs_test, pourcentage=0.5)\n",
    "\n",
    "print(inputs_train.shape, outputs_train.shape)\n",
    "print(inputs_test.shape, outputs_test.shape)\n",
    "print(inputs_val.shape, outputs_val.shape)"
   ]
  },
  {
   "cell_type": "code",
   "execution_count": 5,
   "metadata": {},
   "outputs": [],
   "source": [
    "model = Model([\n",
    "    Dense(n, 8),\n",
    "    TanH(),\n",
    "    BatchNormalization(),\n",
    "    Dense(8, 16),\n",
    "    ReLU(),\n",
    "    Dense(16, 1)\n",
    "])"
   ]
  },
  {
   "cell_type": "code",
   "execution_count": 6,
   "metadata": {},
   "outputs": [],
   "source": [
    "n_epochs = 100\n",
    "learning_rate = 0.01\n",
    "batch_size = 512"
   ]
  },
  {
   "cell_type": "code",
   "execution_count": 7,
   "metadata": {},
   "outputs": [],
   "source": [
    "loss = MSE()\n",
    "# loss = MAE()"
   ]
  },
  {
   "cell_type": "code",
   "execution_count": 8,
   "metadata": {},
   "outputs": [],
   "source": [
    "optimizer = StochasticGradientDescent(learning_rate, batch_size)"
   ]
  },
  {
   "cell_type": "code",
   "execution_count": 9,
   "metadata": {},
   "outputs": [],
   "source": [
    "model.compile(loss, optimizer)"
   ]
  },
  {
   "cell_type": "code",
   "execution_count": 10,
   "metadata": {},
   "outputs": [
    {
     "name": "stdout",
     "output_type": "stream",
     "text": [
      "[1/100]: Training Loss: 3.6730975985106395 , Validation Loss: 3.2910100542603646\n",
      "[2/100]: Training Loss: 3.490446223346693 , Validation Loss: 3.1180346796791696\n",
      "[3/100]: Training Loss: 3.3291382747854263 , Validation Loss: 2.967107018837502\n",
      "[4/100]: Training Loss: 3.186102041366968 , Validation Loss: 2.8338436202521176\n",
      "[5/100]: Training Loss: 3.0592648164546827 , Validation Loss: 2.716207325338546\n",
      "[6/100]: Training Loss: 2.9467891948356426 , Validation Loss: 2.6123941966693223\n",
      "[7/100]: Training Loss: 2.847046350003233 , Validation Loss: 2.5208069169934926\n",
      "[8/100]: Training Loss: 2.7585923468961013 , Validation Loss: 2.440031216588426\n",
      "[9/100]: Training Loss: 2.680147145257616 , Validation Loss: 2.3688149845250277\n",
      "[10/100]: Training Loss: 2.610575987956399 , Validation Loss: 2.306049758579378\n",
      "[11/100]: Training Loss: 2.548872903333909 , Validation Loss: 2.250754323226342\n",
      "[12/100]: Training Loss: 2.494146081425304 , Validation Loss: 2.2020601759092506\n",
      "[13/100]: Training Loss: 2.445604911183046 , Validation Loss: 2.1591986490426986\n",
      "[14/100]: Training Loss: 2.402548490016289 , Validation Loss: 2.1214894993698463\n",
      "[15/100]: Training Loss: 2.3643554383951435 , Validation Loss: 2.0883307977136694\n",
      "[16/100]: Training Loss: 2.33047487126958 , Validation Loss: 2.0591899711452615\n",
      "[17/100]: Training Loss: 2.3004183948947703 , Validation Loss: 2.0335958664183247\n",
      "[18/100]: Training Loss: 2.27375301258324 , Validation Loss: 2.0111317184325164\n",
      "[19/100]: Training Loss: 2.2500948361367548 , Validation Loss: 1.9914289207066809\n",
      "[20/100]: Training Loss: 2.2291035114401083 , Validation Loss: 1.9741615065588887\n",
      "[21/100]: Training Loss: 2.2104772770956016 , Validation Loss: 1.9590412600742737\n",
      "[22/100]: Training Loss: 2.1939485841925666 , Validation Loss: 1.9458133851453674\n",
      "[23/100]: Training Loss: 2.179280213474806 , Validation Loss: 1.9342526690270352\n",
      "[24/100]: Training Loss: 2.166261833409399 , Validation Loss: 1.924160084078184\n",
      "[25/100]: Training Loss: 2.154706949078254 , Validation Loss: 1.915359777770492\n",
      "[26/100]: Training Loss: 2.1444501975026715 , Validation Loss: 1.9076964067239657\n",
      "[27/100]: Training Loss: 2.135344950053679 , Validation Loss: 1.9010327755629228\n",
      "[28/100]: Training Loss: 2.1272611870706486 , Validation Loss: 1.895247745847452\n",
      "[29/100]: Training Loss: 2.120083613772559 , Validation Loss: 1.8902343842895364\n",
      "[30/100]: Training Loss: 2.1137099900581156 , Validation Loss: 1.8858983229675679\n",
      "[31/100]: Training Loss: 2.108049649903795 , Validation Loss: 1.882156307358928\n",
      "[32/100]: Training Loss: 2.1030221888280947 , Validation Loss: 1.8789349107630953\n",
      "[33/100]: Training Loss: 2.0985563003360634 , Validation Loss: 1.8761693961273977\n",
      "[34/100]: Training Loss: 2.0945887444260967 , Validation Loss: 1.873802708449729\n",
      "[35/100]: Training Loss: 2.0910634331626436 , Validation Loss: 1.8717845828487916\n",
      "[36/100]: Training Loss: 2.087930620021817 , Validation Loss: 1.8700707550906854\n",
      "[37/100]: Training Loss: 2.085146181226751 , Validation Loss: 1.8686222628657405\n",
      "[38/100]: Training Loss: 2.08267097862788 , Validation Loss: 1.8674048274432986\n",
      "[39/100]: Training Loss: 2.0804702948696225 , Validation Loss: 1.8663883065142182\n",
      "[40/100]: Training Loss: 2.0785133326364993 , Validation Loss: 1.8655462100784226\n",
      "[41/100]: Training Loss: 2.0767727707037906 , Validation Loss: 1.8648552721631446\n",
      "[42/100]: Training Loss: 2.0752243703440842 , Validation Loss: 1.8642950719801836\n",
      "[43/100]: Training Loss: 2.073846626373393 , Validation Loss: 1.8638476988595332\n",
      "[44/100]: Training Loss: 2.072620457769721 , Validation Loss: 1.8634974559427557\n",
      "[45/100]: Training Loss: 2.071528933372374 , Validation Loss: 1.86323059819197\n",
      "[46/100]: Training Loss: 2.0705570286803896 , Validation Loss: 1.863035100777596\n",
      "[47/100]: Training Loss: 2.069691410220596 , Validation Loss: 1.862900454357523\n",
      "[48/100]: Training Loss: 2.068920244356584 , Validation Loss: 1.8628174841586762\n",
      "[49/100]: Training Loss: 2.068233027765142 , Validation Loss: 1.86277819012489\n",
      "[50/100]: Training Loss: 2.0676204371215907 , Validation Loss: 1.8627756057077212\n",
      "[51/100]: Training Loss: 2.067074195814635 , Validation Loss: 1.8628036731539162\n",
      "[52/100]: Training Loss: 2.0665869557587415 , Validation Loss: 1.8628571333887403\n",
      "[53/100]: Training Loss: 2.0661521925914133 , Validation Loss: 1.8629314288118977\n",
      "[54/100]: Training Loss: 2.0657641127371558 , Validation Loss: 1.8630226175154656\n",
      "[55/100]: Training Loss: 2.065417570992266 , Validation Loss: 1.863127297604\n",
      "[56/100]: Training Loss: 2.065107997437345 , Validation Loss: 1.8632425404482242\n",
      "[57/100]: Training Loss: 2.0648313326198684 , Validation Loss: 1.8633658318376831\n",
      "[58/100]: Training Loss: 2.064583970069193 , Validation Loss: 1.8634950201164664\n",
      "[59/100]: Training Loss: 2.0643627053127713 , Validation Loss: 1.863628270491221\n",
      "[60/100]: Training Loss: 2.0641646906567086 , Validation Loss: 1.8637640247938236\n",
      "[61/100]: Training Loss: 2.063987395077381 , Validation Loss: 1.8639009660635648\n",
      "[62/100]: Training Loss: 2.0638285686449818 , Validation Loss: 1.8640379873867752\n",
      "[63/100]: Training Loss: 2.0636862109655647 , Validation Loss: 1.8641741644965084\n",
      "[64/100]: Training Loss: 2.063558543186389 , Validation Loss: 1.8643087316922355\n",
      "[65/100]: Training Loss: 2.063443983161032 , Validation Loss: 1.864441060690229\n",
      "[66/100]: Training Loss: 2.06334112341648 , Validation Loss: 1.8645706420602657\n",
      "[67/100]: Training Loss: 2.063248711605004 , Validation Loss: 1.86469706894408\n",
      "[68/100]: Training Loss: 2.0631656331595973 , Validation Loss: 1.8648200227862097\n",
      "[69/100]: Training Loss: 2.0630908959036276 , Validation Loss: 1.8649392608390907\n",
      "[70/100]: Training Loss: 2.063023616393637 , Validation Loss: 1.8650546052318573\n",
      "[71/100]: Training Loss: 2.0629630077992873 , Validation Loss: 1.8651659334167596\n",
      "[72/100]: Training Loss: 2.0629083691466468 , Validation Loss: 1.8652731698287373\n",
      "[73/100]: Training Loss: 2.062859075770732 , Validation Loss: 1.865376278612843\n",
      "[74/100]: Training Loss: 2.0628145708406596 , Validation Loss: 1.8654752572911564\n",
      "[75/100]: Training Loss: 2.0627743578362625 , Validation Loss: 1.8655701312558184\n",
      "[76/100]: Training Loss: 2.0627379938687285 , Validation Loss: 1.8656609489880969\n",
      "[77/100]: Training Loss: 2.0627050837500036 , Validation Loss: 1.8657477779151115\n",
      "[78/100]: Training Loss: 2.0626752747264727 , Validation Loss: 1.8658307008262531\n",
      "[79/100]: Training Loss: 2.0626482518020137 , Validation Loss: 1.8659098127804918\n",
      "[80/100]: Training Loss: 2.062623733583979 , Validation Loss: 1.8659852184439103\n",
      "[81/100]: Training Loss: 2.0626014685931895 , Validation Loss: 1.8660570298039594\n",
      "[82/100]: Training Loss: 2.0625812319856847 , Validation Loss: 1.866125364213298\n",
      "[83/100]: Training Loss: 2.062562822639894 , Validation Loss: 1.866190342721678\n",
      "[84/100]: Training Loss: 2.06254606056811 , Validation Loss: 1.8662520886592953\n",
      "[85/100]: Training Loss: 2.0625307846158147 , Validation Loss: 1.8663107264394216\n",
      "[86/100]: Training Loss: 2.0625168504165248 , Validation Loss: 1.8663663805519741\n",
      "[87/100]: Training Loss: 2.062504128573455 , Validation Loss: 1.866419174723135\n",
      "[88/100]: Training Loss: 2.062492503042566 , Validation Loss: 1.8664692312191116\n",
      "[89/100]: Training Loss: 2.062481869694415 , Validation Loss: 1.866516670274829\n",
      "[90/100]: Training Loss: 2.0624721350347825 , Validation Loss: 1.8665616096306674\n",
      "[91/100]: Training Loss: 2.062463215066311 , Validation Loss: 1.866604164162449\n",
      "[92/100]: Training Loss: 2.062455034275379 , Validation Loss: 1.8666444455917062\n",
      "[93/100]: Training Loss: 2.06244752473023 , Validation Loss: 1.8666825622648604\n",
      "[94/100]: Training Loss: 2.0624406252779397 , Validation Loss: 1.866718618991396\n",
      "[95/100]: Training Loss: 2.0624342808292027 , Validation Loss: 1.866752716932317\n",
      "[96/100]: Training Loss: 2.062428441721161 , Validation Loss: 1.866784953531333\n",
      "[97/100]: Training Loss: 2.0624230631495966 , Validation Loss: 1.866815422482138\n",
      "[98/100]: Training Loss: 2.0624181046627865 , Validation Loss: 1.866844213726043\n",
      "[99/100]: Training Loss: 2.0624135297101756 , Validation Loss: 1.8668714134749484\n",
      "[100/100]: Training Loss: 2.062409305239804 , Validation Loss: 1.8668971042553069\n"
     ]
    }
   ],
   "source": [
    "history = model.optimize(inputs_train, outputs_train, n_epochs, verbose=True, inputs_val=inputs_val, outputs_val=outputs_val)"
   ]
  },
  {
   "cell_type": "code",
   "execution_count": 11,
   "metadata": {},
   "outputs": [
    {
     "data": {
      "image/png": "[encoded data removed]",
      "text/plain": [
       "<Figure size 640x480 with 1 Axes>"
      ]
     },
     "metadata": {},
     "output_type": "display_data"
    }
   ],
   "source": [
    "X = list(range(len(history[\"train_losses\"])))\n",
    "plt.plot(X, history[\"train_losses\"], \"b\", label=\"Training Loss\")\n",
    "plt.plot(X, history[\"val_losses\"], \"r\", label=\"Training Loss\")\n",
    "plt.xlabel(\"Epoch\")\n",
    "plt.ylabel(\"Loss\")\n",
    "plt.legend()\n",
    "plt.title(\"Training & Validation Loss\")\n",
    "plt.show()"
   ]
  },
  {
   "cell_type": "code",
   "execution_count": 16,
   "metadata": {},
   "outputs": [
    {
     "data": {
      "text/plain": [
       "True"
      ]
     },
     "execution_count": 16,
     "metadata": {},
     "output_type": "execute_result"
    }
   ],
   "source": [
    "model.save(\"linear_regression.mdl\")"
   ]
  },
  {
   "cell_type": "code",
   "execution_count": 17,
   "metadata": {},
   "outputs": [
    {
     "data": {
      "text/plain": [
       "<dl.model.Model at 0x1c0ffe7fa30>"
      ]
     },
     "execution_count": 17,
     "metadata": {},
     "output_type": "execute_result"
    }
   ],
   "source": [
    "Model.load(\"linear_regression.mdl\")"
   ]
  }
 ],
 "metadata": {
  "kernelspec": {
   "display_name": "deep-learning-framework",
   "language": "python",
   "name": "python3"
  },
  "language_info": {
   "codemirror_mode": {
    "name": "ipython",
    "version": 3
   },
   "file_extension": ".py",
   "mimetype": "text/x-python",
   "name": "python",
   "nbconvert_exporter": "python",
   "pygments_lexer": "ipython3",
   "version": "3.10.9"
  },
  "orig_nbformat": 4,
  "vscode": {
   "interpreter": {
    "hash": "4ff79fb053fb88e18eab83b8116863beb7409b92540c23c781114755009620a7"
   }
  }
 },
 "nbformat": 4,
 "nbformat_minor": 2
}
