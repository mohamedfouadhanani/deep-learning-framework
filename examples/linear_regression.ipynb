{
 "cells": [
  {
   "cell_type": "code",
   "execution_count": 1,
   "metadata": {},
   "outputs": [],
   "source": [
    "import os\n",
    "import sys\n",
    "sys.path.append(os.path.dirname(os.getcwd()))"
   ]
  },
  {
   "cell_type": "code",
   "execution_count": 2,
   "metadata": {},
   "outputs": [],
   "source": [
    "import numpy as np\n",
    "from matplotlib import pyplot as plt\n",
    "\n",
    "from dl import Model\n",
    "from dl import Dense\n",
    "from dl.activations import TanH, ReLU\n",
    "from dl.losses import MAE, MSE\n",
    "from dl.regularization import Dropout\n",
    "from dl.optimizers import StochasticGradientDescent\n",
    "from dl.normalization import BatchNormalization"
   ]
  },
  {
   "cell_type": "code",
   "execution_count": 3,
   "metadata": {},
   "outputs": [],
   "source": [
    "m, n = 4000, 1\n",
    "inputs = np.random.randn(m, n)\n",
    "outputs = 2 * inputs + 1"
   ]
  },
  {
   "cell_type": "code",
   "execution_count": 4,
   "metadata": {},
   "outputs": [
    {
     "name": "stdout",
     "output_type": "stream",
     "text": [
      "(2800, 1) (2800, 1)\n",
      "(600, 1) (600, 1)\n",
      "(600, 1) (600, 1)\n"
     ]
    }
   ],
   "source": [
    "# train, val, test split\n",
    "def train_test_split(inputs, outputs, pourcentage):\n",
    "    m, _ = inputs.shape\n",
    "    permutation = np.random.permutation(m)\n",
    "    m_train = np.ceil(m * pourcentage).astype(int)\n",
    "\n",
    "    inputs_train = inputs[permutation[:m_train]]\n",
    "    inputs_test = inputs[permutation[m_train:]]\n",
    "\n",
    "    outputs_train = outputs[permutation[:m_train]]\n",
    "    outputs_test = outputs[permutation[m_train:]]\n",
    "\n",
    "    return inputs_train, outputs_train, inputs_test, outputs_test\n",
    "\n",
    "inputs_train, outputs_train, inputs_test, outputs_test = train_test_split(inputs, outputs, pourcentage=0.7)\n",
    "inputs_val, outputs_val, inputs_test, outputs_test = train_test_split(inputs_test, outputs_test, pourcentage=0.5)\n",
    "\n",
    "print(inputs_train.shape, outputs_train.shape)\n",
    "print(inputs_test.shape, outputs_test.shape)\n",
    "print(inputs_val.shape, outputs_val.shape)"
   ]
  },
  {
   "cell_type": "code",
   "execution_count": 5,
   "metadata": {},
   "outputs": [],
   "source": [
    "model = Model([\n",
    "    Dense(n, 8),\n",
    "    TanH(),\n",
    "    BatchNormalization(),\n",
    "    Dense(8, 16),\n",
    "    ReLU(),\n",
    "    Dense(16, 1)\n",
    "])"
   ]
  },
  {
   "cell_type": "code",
   "execution_count": 6,
   "metadata": {},
   "outputs": [],
   "source": [
    "n_epochs = 100\n",
    "learning_rate = 0.01\n",
    "batch_size = 512"
   ]
  },
  {
   "cell_type": "code",
   "execution_count": 7,
   "metadata": {},
   "outputs": [],
   "source": [
    "loss = MSE()\n",
    "# loss = MAE()"
   ]
  },
  {
   "cell_type": "code",
   "execution_count": 8,
   "metadata": {},
   "outputs": [],
   "source": [
    "optimizer = StochasticGradientDescent(learning_rate)"
   ]
  },
  {
   "cell_type": "code",
   "execution_count": 9,
   "metadata": {},
   "outputs": [],
   "source": [
    "model.compile(loss, optimizer)"
   ]
  },
  {
   "cell_type": "code",
   "execution_count": 10,
   "metadata": {},
   "outputs": [
    {
     "name": "stdout",
     "output_type": "stream",
     "text": [
      "[1/100]: Training Loss: 6.521083339585386 , Validation Loss: 6.97103987444852\n",
      "[2/100]: Training Loss: 5.768877650246024 , Validation Loss: 6.210054501320456\n",
      "[3/100]: Training Loss: 5.312620489014115 , Validation Loss: 5.729560763195554\n",
      "[4/100]: Training Loss: 4.910087636918995 , Validation Loss: 5.306687569797279\n",
      "[5/100]: Training Loss: 4.548222472391014 , Validation Loss: 4.926567822496262\n",
      "[6/100]: Training Loss: 4.223803959077634 , Validation Loss: 4.583208293074778\n",
      "[7/100]: Training Loss: 3.931639943554129 , Validation Loss: 4.273925885067815\n",
      "[8/100]: Training Loss: 3.667467520183168 , Validation Loss: 3.9936424154695622\n",
      "[9/100]: Training Loss: 3.427201837855319 , Validation Loss: 3.737517334626656\n",
      "[10/100]: Training Loss: 3.2078192566477126 , Validation Loss: 3.5027918289216875\n",
      "[11/100]: Training Loss: 3.006789850281621 , Validation Loss: 3.2868099884408912\n",
      "[12/100]: Training Loss: 2.8229565133360466 , Validation Loss: 3.088335161296696\n",
      "[13/100]: Training Loss: 2.6548571528434866 , Validation Loss: 2.9059481864963024\n",
      "[14/100]: Training Loss: 2.5009919031733627 , Validation Loss: 2.7384381374919404\n",
      "[15/100]: Training Loss: 2.360082523446783 , Validation Loss: 2.5846211755762942\n",
      "[16/100]: Training Loss: 2.230400322282416 , Validation Loss: 2.4430152730365076\n",
      "[17/100]: Training Loss: 2.1108310480211196 , Validation Loss: 2.312559478164068\n",
      "[18/100]: Training Loss: 2.0002293253116408 , Validation Loss: 2.1918972272353483\n",
      "[19/100]: Training Loss: 1.897588984909243 , Validation Loss: 2.079946429022969\n",
      "[20/100]: Training Loss: 1.802172765724622 , Validation Loss: 1.9759150600638156\n",
      "[21/100]: Training Loss: 1.7130509356822852 , Validation Loss: 1.87879228707025\n",
      "[22/100]: Training Loss: 1.62958707825858 , Validation Loss: 1.7877189895868708\n",
      "[23/100]: Training Loss: 1.5509766100799924 , Validation Loss: 1.7020746458721612\n",
      "[24/100]: Training Loss: 1.4763329838898127 , Validation Loss: 1.620595958897824\n",
      "[25/100]: Training Loss: 1.4047000689626286 , Validation Loss: 1.5422274087696293\n",
      "[26/100]: Training Loss: 1.3349685046451476 , Validation Loss: 1.4659330872091667\n",
      "[27/100]: Training Loss: 1.2661630769324512 , Validation Loss: 1.3905282340434681\n",
      "[28/100]: Training Loss: 1.1975463107436854 , Validation Loss: 1.3152182616240407\n",
      "[29/100]: Training Loss: 1.1292319135108009 , Validation Loss: 1.2403860376210019\n",
      "[30/100]: Training Loss: 1.0609985412937208 , Validation Loss: 1.1654678363119078\n",
      "[31/100]: Training Loss: 0.992572087007415 , Validation Loss: 1.0902495974845363\n",
      "[32/100]: Training Loss: 0.9235902950105759 , Validation Loss: 1.0143772218659777\n",
      "[33/100]: Training Loss: 0.8540284937561861 , Validation Loss: 0.9376738338034276\n",
      "[34/100]: Training Loss: 0.7840001027968599 , Validation Loss: 0.8604487646765604\n",
      "[35/100]: Training Loss: 0.7138769465778861 , Validation Loss: 0.7829939944444027\n",
      "[36/100]: Training Loss: 0.6438746617503601 , Validation Loss: 0.7056074829910043\n",
      "[37/100]: Training Loss: 0.5748454591007596 , Validation Loss: 0.629134522429278\n",
      "[38/100]: Training Loss: 0.5075825892166856 , Validation Loss: 0.5545616809592695\n",
      "[39/100]: Training Loss: 0.44300619567273253 , Validation Loss: 0.48291622207544294\n",
      "[40/100]: Training Loss: 0.3821101005927833 , Validation Loss: 0.4152994222014704\n",
      "[41/100]: Training Loss: 0.3256854953640756 , Validation Loss: 0.35277442870839487\n",
      "[42/100]: Training Loss: 0.2748771554548793 , Validation Loss: 0.2965369553870641\n",
      "[43/100]: Training Loss: 0.23014244467644127 , Validation Loss: 0.24714579862789843\n",
      "[44/100]: Training Loss: 0.1912817115012163 , Validation Loss: 0.2043474780943831\n",
      "[45/100]: Training Loss: 0.15794215872602124 , Validation Loss: 0.16765996039382458\n",
      "[46/100]: Training Loss: 0.1296942737219226 , Validation Loss: 0.13663722715948737\n",
      "[47/100]: Training Loss: 0.1061611691802595 , Validation Loss: 0.11085060485418682\n",
      "[48/100]: Training Loss: 0.0868539796258763 , Validation Loss: 0.08971358201403942\n",
      "[49/100]: Training Loss: 0.07122478481409462 , Validation Loss: 0.07263905116058443\n",
      "[50/100]: Training Loss: 0.05873541835669011 , Validation Loss: 0.05903584069694957\n",
      "[51/100]: Training Loss: 0.048846908749588816 , Validation Loss: 0.04832801439952465\n",
      "[52/100]: Training Loss: 0.04107649245984524 , Validation Loss: 0.039964614818381795\n",
      "[53/100]: Training Loss: 0.03501171799481029 , Validation Loss: 0.033477026508869266\n",
      "[54/100]: Training Loss: 0.03029341313359626 , Validation Loss: 0.028465916991641235\n",
      "[55/100]: Training Loss: 0.026628990557704856 , Validation Loss: 0.02459560145470787\n",
      "[56/100]: Training Loss: 0.023773979058411904 , Validation Loss: 0.021612931492358132\n",
      "[57/100]: Training Loss: 0.021532580081042203 , Validation Loss: 0.01928787592969105\n",
      "[58/100]: Training Loss: 0.01975137783760624 , Validation Loss: 0.01745752626498996\n",
      "[59/100]: Training Loss: 0.018322032457676746 , Validation Loss: 0.015996501910046222\n",
      "[60/100]: Training Loss: 0.01716351570848923 , Validation Loss: 0.014821630515370075\n",
      "[61/100]: Training Loss: 0.01620144898614389 , Validation Loss: 0.013852650273575916\n",
      "[62/100]: Training Loss: 0.015391000117016926 , Validation Loss: 0.013029500330175636\n",
      "[63/100]: Training Loss: 0.014703562141658516 , Validation Loss: 0.012330345915516218\n",
      "[64/100]: Training Loss: 0.014111073890944752 , Validation Loss: 0.011734064971176548\n",
      "[65/100]: Training Loss: 0.01358638180688557 , Validation Loss: 0.011209734732292836\n",
      "[66/100]: Training Loss: 0.013113014249790755 , Validation Loss: 0.010737773012551358\n",
      "[67/100]: Training Loss: 0.012685302742651429 , Validation Loss: 0.010314229101290255\n",
      "[68/100]: Training Loss: 0.012296251246405921 , Validation Loss: 0.00992942585056866\n",
      "[69/100]: Training Loss: 0.011939753063539763 , Validation Loss: 0.0095779137902646\n",
      "[70/100]: Training Loss: 0.011614312915058215 , Validation Loss: 0.009260745139494464\n",
      "[71/100]: Training Loss: 0.011315866812536903 , Validation Loss: 0.00897417870477855\n",
      "[72/100]: Training Loss: 0.011039114103580279 , Validation Loss: 0.008707066447645441\n",
      "[73/100]: Training Loss: 0.010783417922741685 , Validation Loss: 0.00845987308438703\n",
      "[74/100]: Training Loss: 0.010545496144331033 , Validation Loss: 0.008230543381819807\n",
      "[75/100]: Training Loss: 0.01032312045122345 , Validation Loss: 0.008017846964445999\n",
      "[76/100]: Training Loss: 0.010113124739857142 , Validation Loss: 0.007817483385396898\n",
      "[77/100]: Training Loss: 0.009916278102418765 , Validation Loss: 0.00762993602950869\n",
      "[78/100]: Training Loss: 0.00973144344643864 , Validation Loss: 0.007455853840332747\n",
      "[79/100]: Training Loss: 0.009557542412601597 , Validation Loss: 0.00729408664635353\n",
      "[80/100]: Training Loss: 0.009392012413988989 , Validation Loss: 0.007139754460111488\n",
      "[81/100]: Training Loss: 0.009232941357614084 , Validation Loss: 0.006991971123851865\n",
      "[82/100]: Training Loss: 0.009081905585332168 , Validation Loss: 0.006852744601809106\n",
      "[83/100]: Training Loss: 0.00893899089021248 , Validation Loss: 0.006724342516424274\n",
      "[84/100]: Training Loss: 0.008802941942984704 , Validation Loss: 0.006603939413841255\n",
      "[85/100]: Training Loss: 0.008670637915007802 , Validation Loss: 0.006485297346947977\n",
      "[86/100]: Training Loss: 0.008542194120767762 , Validation Loss: 0.0063702409054186985\n",
      "[87/100]: Training Loss: 0.008418534443723258 , Validation Loss: 0.006260235790118999\n",
      "[88/100]: Training Loss: 0.008299540923648789 , Validation Loss: 0.006155606418216021\n",
      "[89/100]: Training Loss: 0.008185494522023818 , Validation Loss: 0.006057759932291151\n",
      "[90/100]: Training Loss: 0.008074268515216112 , Validation Loss: 0.005962433143285036\n",
      "[91/100]: Training Loss: 0.00796642886776248 , Validation Loss: 0.005870871306095324\n",
      "[92/100]: Training Loss: 0.007860156989316767 , Validation Loss: 0.005779687732485786\n",
      "[93/100]: Training Loss: 0.007756309074080217 , Validation Loss: 0.005691581714433808\n",
      "[94/100]: Training Loss: 0.007654943515217439 , Validation Loss: 0.005606181255512007\n",
      "[95/100]: Training Loss: 0.007556178680679594 , Validation Loss: 0.005523089182846158\n",
      "[96/100]: Training Loss: 0.007460047976526299 , Validation Loss: 0.005442582756370933\n",
      "[97/100]: Training Loss: 0.0073670907491048205 , Validation Loss: 0.005366030681955075\n",
      "[98/100]: Training Loss: 0.007276085338304709 , Validation Loss: 0.005290951237233829\n",
      "[99/100]: Training Loss: 0.007186983002878939 , Validation Loss: 0.00521713302495351\n",
      "[100/100]: Training Loss: 0.0070992138978122595 , Validation Loss: 0.0051441513206989566\n"
     ]
    }
   ],
   "source": [
    "history = model.optimize(inputs_train, outputs_train, n_epochs, batch_size, verbose=True, inputs_val=inputs_val, outputs_val=outputs_val)"
   ]
  },
  {
   "cell_type": "code",
   "execution_count": 11,
   "metadata": {},
   "outputs": [
    {
     "data": {
      "image/png": "[encoded data removed]",
      "text/plain": [
       "<Figure size 640x480 with 1 Axes>"
      ]
     },
     "metadata": {},
     "output_type": "display_data"
    }
   ],
   "source": [
    "X = list(range(len(history[\"train_losses\"])))\n",
    "plt.plot(X, history[\"train_losses\"], \"b\", label=\"Training Loss\")\n",
    "plt.plot(X, history[\"val_losses\"], \"r\", label=\"Validation Loss\")\n",
    "plt.xlabel(\"Epoch\")\n",
    "plt.ylabel(\"Loss\")\n",
    "plt.legend()\n",
    "plt.title(\"Training & Validation Loss\")\n",
    "plt.show()"
   ]
  },
  {
   "cell_type": "code",
   "execution_count": 12,
   "metadata": {},
   "outputs": [
    {
     "data": {
      "text/plain": [
       "True"
      ]
     },
     "execution_count": 12,
     "metadata": {},
     "output_type": "execute_result"
    }
   ],
   "source": [
    "model.save(\"linear_regression.mdl\")"
   ]
  },
  {
   "cell_type": "code",
   "execution_count": 13,
   "metadata": {},
   "outputs": [
    {
     "data": {
      "text/plain": [
       "<dl.model.Model at 0x1f9d7d7ffd0>"
      ]
     },
     "execution_count": 13,
     "metadata": {},
     "output_type": "execute_result"
    }
   ],
   "source": [
    "Model.load(\"linear_regression.mdl\")"
   ]
  }
 ],
 "metadata": {
  "kernelspec": {
   "display_name": "deep-learning-framework",
   "language": "python",
   "name": "python3"
  },
  "language_info": {
   "codemirror_mode": {
    "name": "ipython",
    "version": 3
   },
   "file_extension": ".py",
   "mimetype": "text/x-python",
   "name": "python",
   "nbconvert_exporter": "python",
   "pygments_lexer": "ipython3",
   "version": "3.10.9 | packaged by conda-forge | (main, Jan 11 2023, 15:15:40) [MSC v.1916 64 bit (AMD64)]"
  },
  "orig_nbformat": 4,
  "vscode": {
   "interpreter": {
    "hash": "4ff79fb053fb88e18eab83b8116863beb7409b92540c23c781114755009620a7"
   }
  }
 },
 "nbformat": 4,
 "nbformat_minor": 2
}
