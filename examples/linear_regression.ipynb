{
 "cells": [
  {
   "cell_type": "code",
   "execution_count": 1,
   "metadata": {},
   "outputs": [],
   "source": [
    "import os\n",
    "import sys\n",
    "sys.path.append(os.path.dirname(os.getcwd()))"
   ]
  },
  {
   "cell_type": "code",
   "execution_count": 2,
   "metadata": {},
   "outputs": [],
   "source": [
    "import numpy as np\n",
    "from matplotlib import pyplot as plt\n",
    "\n",
    "from dlf.sequential import Sequential\n",
    "from dlf.layers.dense import Dense\n",
    "from dlf.activation_functions.tanh import TanH\n",
    "from dlf.activation_functions.relu import ReLU\n",
    "from dlf.losses.mse import MSE\n",
    "from dlf.optimizers.sgd import StochasticGradientDescent\n",
    "from dlf.normalization.batchnorm import BatchNormalization\n",
    "from dlf.trainer import Trainer\n",
    "from dlf.schedulers.step import StepScheduler\n",
    "\n",
    "from dlf.utils.dataset import train_test_split"
   ]
  },
  {
   "cell_type": "code",
   "execution_count": 3,
   "metadata": {},
   "outputs": [],
   "source": [
    "m, n = 4000, 1\n",
    "inputs = np.random.randn(m, n)\n",
    "labels = 2 * inputs + 1"
   ]
  },
  {
   "cell_type": "code",
   "execution_count": 4,
   "metadata": {},
   "outputs": [],
   "source": [
    "training_inputs, training_labels, testing_inputs, testing_labels = train_test_split(inputs, labels, 0.7)\n",
    "testing_inputs, testing_labels, validation_inputs, validation_labels = train_test_split(testing_inputs, testing_labels, 0.5)"
   ]
  },
  {
   "cell_type": "code",
   "execution_count": 5,
   "metadata": {},
   "outputs": [
    {
     "name": "stdout",
     "output_type": "stream",
     "text": [
      "(2800, 1) (2800, 1)\n",
      "(600, 1) (600, 1)\n",
      "(600, 1) (600, 1)\n"
     ]
    }
   ],
   "source": [
    "print(training_inputs.shape, training_labels.shape)\n",
    "print(validation_inputs.shape, validation_labels.shape)\n",
    "print(testing_inputs.shape, testing_labels.shape)"
   ]
  },
  {
   "cell_type": "code",
   "execution_count": 6,
   "metadata": {},
   "outputs": [],
   "source": [
    "training_set = (training_inputs, training_labels)\n",
    "validation_set = (validation_inputs, validation_labels)\n",
    "testing_set = (testing_inputs, testing_labels)"
   ]
  },
  {
   "cell_type": "code",
   "execution_count": 7,
   "metadata": {},
   "outputs": [],
   "source": [
    "model = Sequential([\n",
    "    Dense(n, 8),\n",
    "    TanH(),\n",
    "    BatchNormalization(),\n",
    "    Dense(8, 16),\n",
    "    ReLU(),\n",
    "    Dense(16, 1)\n",
    "])"
   ]
  },
  {
   "cell_type": "code",
   "execution_count": 8,
   "metadata": {},
   "outputs": [],
   "source": [
    "n_epochs = 100\n",
    "learning_rate = 0.01\n",
    "batch_size = 512\n",
    "step_size = 10\n",
    "decay_rate = 0.9"
   ]
  },
  {
   "cell_type": "code",
   "execution_count": 9,
   "metadata": {},
   "outputs": [],
   "source": [
    "loss = MSE()\n",
    "# loss = MAE()"
   ]
  },
  {
   "cell_type": "code",
   "execution_count": 10,
   "metadata": {},
   "outputs": [],
   "source": [
    "optimizer = StochasticGradientDescent(learning_rate)"
   ]
  },
  {
   "cell_type": "code",
   "execution_count": 11,
   "metadata": {},
   "outputs": [],
   "source": [
    "trainer = Trainer(model, optimizer, loss, lr_scheduler=StepScheduler(step_size, decay_rate))"
   ]
  },
  {
   "cell_type": "code",
   "execution_count": 12,
   "metadata": {},
   "outputs": [
    {
     "name": "stdout",
     "output_type": "stream",
     "text": [
      "[1/100]: Training Loss = 0.6668588346990674\n",
      "[2/100]: Training Loss = 0.3668371944124807\n",
      "[3/100]: Training Loss = 0.2795927873721346\n",
      "[4/100]: Training Loss = 0.22843738170631744\n",
      "[5/100]: Training Loss = 0.19448604083906737\n",
      "[6/100]: Training Loss = 0.17017092914374293\n",
      "[7/100]: Training Loss = 0.1513719056613176\n",
      "[8/100]: Training Loss = 0.13646488189707984\n",
      "[9/100]: Training Loss = 0.12368561049030144\n",
      "[10/100]: Training Loss = 0.11266223223480706\n",
      "[11/100]: Training Loss = 0.10179562528620424\n",
      "[12/100]: Training Loss = 0.09398390851383308\n",
      "[13/100]: Training Loss = 0.0868118076772534\n",
      "[14/100]: Training Loss = 0.08030524666678855\n",
      "[15/100]: Training Loss = 0.07435884048132832\n",
      "[16/100]: Training Loss = 0.06899701008243089\n",
      "[17/100]: Training Loss = 0.06401459973712578\n",
      "[18/100]: Training Loss = 0.059435860100626924\n",
      "[19/100]: Training Loss = 0.055199136246878396\n",
      "[20/100]: Training Loss = 0.051310175061011085\n",
      "[21/100]: Training Loss = 0.04712186423390772\n",
      "[22/100]: Training Loss = 0.04413515773474892\n",
      "[23/100]: Training Loss = 0.041359215906692344\n",
      "[24/100]: Training Loss = 0.038837525741152026\n",
      "[25/100]: Training Loss = 0.03652035065357147\n",
      "[26/100]: Training Loss = 0.03436343631120869\n",
      "[27/100]: Training Loss = 0.032381383331973664\n",
      "[28/100]: Training Loss = 0.030545212562888027\n",
      "[29/100]: Training Loss = 0.028857053732726245\n",
      "[30/100]: Training Loss = 0.027294049755236235\n",
      "[31/100]: Training Loss = 0.025455761498646305\n",
      "[32/100]: Training Loss = 0.02424696611111534\n",
      "[33/100]: Training Loss = 0.023125663817364566\n",
      "[34/100]: Training Loss = 0.022077975441179766\n",
      "[35/100]: Training Loss = 0.021093978813569465\n",
      "[36/100]: Training Loss = 0.020179529020437934\n",
      "[37/100]: Training Loss = 0.01932971928215067\n",
      "[38/100]: Training Loss = 0.018534995014939642\n",
      "[39/100]: Training Loss = 0.01778366798163749\n",
      "[40/100]: Training Loss = 0.017090137115592294\n",
      "[41/100]: Training Loss = 0.01618579104593196\n",
      "[42/100]: Training Loss = 0.01564252970459727\n",
      "[43/100]: Training Loss = 0.015132018041994795\n",
      "[44/100]: Training Loss = 0.014648823044576627\n",
      "[45/100]: Training Loss = 0.014204070314338563\n",
      "[46/100]: Training Loss = 0.013782333889367823\n",
      "[47/100]: Training Loss = 0.013392855220927907\n",
      "[48/100]: Training Loss = 0.013028332267891412\n",
      "[49/100]: Training Loss = 0.012682528955739628\n",
      "[50/100]: Training Loss = 0.012358043989400689\n",
      "[51/100]: Training Loss = 0.011842609260210477\n",
      "[52/100]: Training Loss = 0.011574924013572142\n",
      "[53/100]: Training Loss = 0.011325298845902875\n",
      "[54/100]: Training Loss = 0.01108962409303723\n",
      "[55/100]: Training Loss = 0.010862591697601474\n",
      "[56/100]: Training Loss = 0.010653078975854406\n",
      "[57/100]: Training Loss = 0.010452097599397083\n",
      "[58/100]: Training Loss = 0.01025864452657969\n",
      "[59/100]: Training Loss = 0.010080998306731434\n",
      "[60/100]: Training Loss = 0.009910546653187613\n",
      "[61/100]: Training Loss = 0.009556797515428164\n",
      "[62/100]: Training Loss = 0.009409005131911721\n",
      "[63/100]: Training Loss = 0.009272747779545489\n",
      "[64/100]: Training Loss = 0.009142603411253543\n",
      "[65/100]: Training Loss = 0.009015028710702745\n",
      "[66/100]: Training Loss = 0.008896490457574366\n",
      "[67/100]: Training Loss = 0.008783440251084497\n",
      "[68/100]: Training Loss = 0.008674332520945082\n",
      "[69/100]: Training Loss = 0.008566835886117345\n",
      "[70/100]: Training Loss = 0.008466412821056613\n",
      "[71/100]: Training Loss = 0.008193957408998758\n",
      "[72/100]: Training Loss = 0.008099791876007224\n",
      "[73/100]: Training Loss = 0.008016415340043461\n",
      "[74/100]: Training Loss = 0.007935492320008909\n",
      "[75/100]: Training Loss = 0.007854618633904884\n",
      "[76/100]: Training Loss = 0.007779760525636706\n",
      "[77/100]: Training Loss = 0.007707322946331327\n",
      "[78/100]: Training Loss = 0.007636530904294363\n",
      "[79/100]: Training Loss = 0.007565210020889739\n",
      "[80/100]: Training Loss = 0.007499214778393341\n",
      "[81/100]: Training Loss = 0.0072793530026993205\n",
      "[82/100]: Training Loss = 0.007212530999542055\n",
      "[83/100]: Training Loss = 0.007156517679058096\n",
      "[84/100]: Training Loss = 0.007101803279190117\n",
      "[85/100]: Training Loss = 0.00704758715655116\n",
      "[86/100]: Training Loss = 0.006996166841464605\n",
      "[87/100]: Training Loss = 0.00694638384045274\n",
      "[88/100]: Training Loss = 0.006897180334981186\n",
      "[89/100]: Training Loss = 0.006849468644110466\n",
      "[90/100]: Training Loss = 0.00680299606565714\n",
      "[91/100]: Training Loss = 0.006623757099034448\n",
      "[92/100]: Training Loss = 0.006572983034903141\n",
      "[93/100]: Training Loss = 0.006531917098620213\n",
      "[94/100]: Training Loss = 0.006492688828821042\n",
      "[95/100]: Training Loss = 0.00645254870576224\n",
      "[96/100]: Training Loss = 0.006414498857431097\n",
      "[97/100]: Training Loss = 0.006377237894667559\n",
      "[98/100]: Training Loss = 0.006341252990285657\n",
      "[99/100]: Training Loss = 0.006305132437335424\n",
      "[100/100]: Training Loss = 0.006268119538768566\n"
     ]
    }
   ],
   "source": [
    "history = trainer.fit(training_set, n_epochs, batch_size)"
   ]
  },
  {
   "cell_type": "code",
   "execution_count": null,
   "metadata": {},
   "outputs": [],
   "source": [
    "history"
   ]
  },
  {
   "cell_type": "code",
   "execution_count": 13,
   "metadata": {},
   "outputs": [
    {
     "data": {
      "image/png": "[encoded data removed]",
      "text/plain": [
       "<Figure size 640x480 with 1 Axes>"
      ]
     },
     "metadata": {},
     "output_type": "display_data"
    }
   ],
   "source": [
    "plt.plot(history[\"learning_rates\"])\n",
    "plt.title(\"evolution of the learning rate\")\n",
    "plt.grid()\n",
    "plt.show()"
   ]
  },
  {
   "cell_type": "code",
   "execution_count": null,
   "metadata": {},
   "outputs": [],
   "source": [
    "model.save(\"linear_regression.dlfm\")"
   ]
  },
  {
   "cell_type": "code",
   "execution_count": null,
   "metadata": {},
   "outputs": [],
   "source": [
    "Sequential.load(\"linear_regression.dlfm\")"
   ]
  }
 ],
 "metadata": {
  "kernelspec": {
   "display_name": "deep-learning-framework",
   "language": "python",
   "name": "python3"
  },
  "language_info": {
   "codemirror_mode": {
    "name": "ipython",
    "version": 3
   },
   "file_extension": ".py",
   "mimetype": "text/x-python",
   "name": "python",
   "nbconvert_exporter": "python",
   "pygments_lexer": "ipython3",
   "version": "3.10.10"
  },
  "orig_nbformat": 4,
  "vscode": {
   "interpreter": {
    "hash": "4ff79fb053fb88e18eab83b8116863beb7409b92540c23c781114755009620a7"
   }
  }
 },
 "nbformat": 4,
 "nbformat_minor": 2
}
